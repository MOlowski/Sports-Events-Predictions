{
 "cells": [
  {
   "cell_type": "code",
   "execution_count": null,
   "id": "2c5a3940-9286-4e12-917f-98d0cc523a62",
   "metadata": {},
   "outputs": [],
   "source": [
    "def get_odds_predictions(start, end):\n",
    "    conn = None\n",
    "    cur = None\n",
    "    params = {\n",
    "    'host': 'localhost',\n",
    "    'database': 'preds',\n",
    "    'user': 'postgres',\n",
    "    'password': 'pass',\n",
    "    'port': '5432'\n",
    "}\n",
    "    try:\n",
    "        # Establish the connection\n",
    "        conn = psycopg2.connect(**params)\n",
    "        cur = conn.cursor()\n",
    "\n",
    "        query = \"\"\"\n",
    "        SELECT a.*\n",
    "        FROM (\n",
    "            SELECT *\n",
    "            FROM odds o\n",
    "            LEFT JOIN predictions p ON p.fixture_id = o.fixture_id\n",
    "        ) a\n",
    "        LEFT JOIN fixtures f ON a.fixture_id = f.fixture_id\n",
    "        WHERE f.fixture_date >= {} and f.fixture_date <= {}\n",
    "        \"\"\".format(start, end)\n",
    "        df = pd.read_sql_query(query, conn)\n",
    "        # Commit the changes\n",
    "        conn.commit()\n",
    "        return df\n",
    "    except Exception as e:\n",
    "        print(f\"Error: {e}\")\n",
    "        if conn is not None:\n",
    "            conn.rollback()\n",
    "    finally:\n",
    "        if conn is not None:\n",
    "            # Close the cursor and connection\n",
    "            cur.close()\n",
    "        if cur is not None:\n",
    "            conn.close()"
   ]
  },
  {
   "cell_type": "code",
   "execution_count": 10,
   "id": "c643e714-8862-4ac6-b36a-b5412b957b22",
   "metadata": {},
   "outputs": [
    {
     "name": "stdout",
     "output_type": "stream",
     "text": [
      "2024-06-28 2024-07-01\n"
     ]
    }
   ],
   "source": [
    "from datetime import date, timedelta\n",
    "\n",
    "start = end = date.today()\n",
    "while start.weekday()!=4:\n",
    "    start += timedelta(1)\n",
    "while end.weekday()!=0:\n",
    "    end += timedelta(1)\n",
    "\n",
    "df = get_odds_predictions(start,end)\n",
    "\n"
   ]
  }
 ],
 "metadata": {
  "kernelspec": {
   "display_name": "Python 3 (ipykernel)",
   "language": "python",
   "name": "python3"
  },
  "language_info": {
   "codemirror_mode": {
    "name": "ipython",
    "version": 3
   },
   "file_extension": ".py",
   "mimetype": "text/x-python",
   "name": "python",
   "nbconvert_exporter": "python",
   "pygments_lexer": "ipython3",
   "version": "3.12.4"
  }
 },
 "nbformat": 4,
 "nbformat_minor": 5
}
