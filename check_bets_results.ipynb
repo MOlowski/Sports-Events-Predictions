{
 "cells": [
  {
   "cell_type": "code",
   "execution_count": 1,
   "id": "fc0c8b4c-6a57-46ca-b543-d218c49b2ce6",
   "metadata": {
    "jupyter": {
     "source_hidden": true
    }
   },
   "outputs": [],
   "source": [
    "def get_bets():\n",
    "    \n",
    "    conn = None\n",
    "    db_params = {\n",
    "        'host': 'localhost',\n",
    "        'database': 'preds',\n",
    "        'user': 'postgres',\n",
    "        'password': 'pass',\n",
    "        'port': '5432'\n",
    "    }\n",
    "    #get next friday and monday dates as start and end for query\n",
    "\n",
    "    try:\n",
    "        conn = psycopg2.connect(**db_params)\n",
    "\n",
    "        query = '''\n",
    "    SELECT br.*, b.bet_value \n",
    "    FROM bets_results br\n",
    "    JOIN bets b\n",
    "    ON br.bet_name = b.bet_name AND br.fixture_id = b.fixture_id\n",
    "    '''\n",
    "        current_matches = pd.read_sql_query(query, conn)\n",
    "        \n",
    "        return current_matches\n",
    "    except Exception as e:\n",
    "        print(f'Error {e}')\n",
    "        return None, None\n",
    "    finally:\n",
    "        if conn is not None:\n",
    "            conn.close()\n"
   ]
  },
  {
   "cell_type": "code",
   "execution_count": 2,
   "id": "b32df37b-8690-4ee7-b93c-a422b2e50114",
   "metadata": {},
   "outputs": [
    {
     "name": "stderr",
     "output_type": "stream",
     "text": [
      "C:\\Users\\olows\\AppData\\Local\\Temp\\ipykernel_14036\\2089369644.py:22: UserWarning: pandas only supports SQLAlchemy connectable (engine/connection) or database string URI or sqlite3 DBAPI2 connection. Other DBAPI2 objects are not tested. Please consider using SQLAlchemy.\n",
      "  current_matches = pd.read_sql_query(query, conn)\n"
     ]
    }
   ],
   "source": [
    "import pandas as pd\n",
    "import psycopg2\n",
    "\n",
    "df = get_bets()\n",
    "\n",
    "df1 = df.groupby('bet_number')['bet_value'].prod().reset_index()\n",
    "df1 = df1.rename(columns={'bet_value':'summed_val'})\n",
    "df2 = df.merge(df1, on='bet_number')"
   ]
  },
  {
   "cell_type": "code",
   "execution_count": 3,
   "id": "6c55f29b-2362-425b-85f5-e3fab90dce09",
   "metadata": {},
   "outputs": [],
   "source": [
    "df_won = df2[df2['bet_result']]\n",
    "won_bets = len(list(df_won['bet_number'].unique()))\n",
    "df_won = df_won.groupby('bet_number')['summed_val'].max().reset_index()\n",
    "\n",
    "df_lost = df2[~df2['bet_result']]\n",
    "\n",
    "lost = len(list(df_lost['bet_number'].unique()))*10\n",
    "df_won['won'] = df_won['summed_val']*10\n",
    "won = df_won['won'].sum()\n",
    "\n",
    "money_used = len(list(df['bet_number'].unique()))*10\n",
    "incomes = won - money_used"
   ]
  },
  {
   "cell_type": "code",
   "execution_count": 4,
   "id": "1d29be18-03b9-4747-a238-6275333a264b",
   "metadata": {},
   "outputs": [
    {
     "data": {
      "text/plain": [
       "290"
      ]
     },
     "execution_count": 4,
     "metadata": {},
     "output_type": "execute_result"
    }
   ],
   "source": [
    "lost"
   ]
  },
  {
   "cell_type": "code",
   "execution_count": 5,
   "id": "30b8dda3-7e4c-4686-bde1-b2a5783c6120",
   "metadata": {},
   "outputs": [
    {
     "data": {
      "text/plain": [
       "411.90000000000003"
      ]
     },
     "execution_count": 5,
     "metadata": {},
     "output_type": "execute_result"
    }
   ],
   "source": [
    "won"
   ]
  },
  {
   "cell_type": "code",
   "execution_count": 6,
   "id": "b59d56f4-0ea1-40d4-90c3-061055d158a0",
   "metadata": {},
   "outputs": [
    {
     "data": {
      "text/plain": [
       "1.900000000000034"
      ]
     },
     "execution_count": 6,
     "metadata": {},
     "output_type": "execute_result"
    }
   ],
   "source": [
    "incomes"
   ]
  },
  {
   "cell_type": "code",
   "execution_count": 7,
   "id": "5a5224d5-18ef-4e20-8478-f8a9ee8aeb9c",
   "metadata": {},
   "outputs": [
    {
     "data": {
      "text/plain": [
       "410"
      ]
     },
     "execution_count": 7,
     "metadata": {},
     "output_type": "execute_result"
    }
   ],
   "source": [
    "money_used"
   ]
  },
  {
   "cell_type": "code",
   "execution_count": 8,
   "id": "bd1507c4-162d-40f9-a910-eef41a72d65a",
   "metadata": {},
   "outputs": [
    {
     "name": "stderr",
     "output_type": "stream",
     "text": [
      "C:\\Users\\olows\\AppData\\Local\\Temp\\ipykernel_14036\\2350901009.py:8: SettingWithCopyWarning: \n",
      "A value is trying to be set on a copy of a slice from a DataFrame.\n",
      "Try using .loc[row_indexer,col_indexer] = value instead\n",
      "\n",
      "See the caveats in the documentation: https://pandas.pydata.org/pandas-docs/stable/user_guide/indexing.html#returning-a-view-versus-a-copy\n",
      "  df3['cash'] = df3.apply(lambda row: (row['summed_val']*10)-10 if row['bet_result'] else -10, axis=1)\n"
     ]
    }
   ],
   "source": [
    "df3 = df2.drop_duplicates(subset=['bet_number'])\n",
    "\n",
    "\n",
    "acc_by_bet_name = df3.groupby(['bet_name', 'bet_result']).size().reset_index(name='num')\n",
    "\n",
    "match_acc_by_bet_name = df2.groupby(['bet_name', 'bet_result']).size().reset_index(name='num')\n",
    "\n",
    "df3['cash'] = df3.apply(lambda row: (row['summed_val']*10)-10 if row['bet_result'] else -10, axis=1)\n",
    "\n",
    "incomes = df3.groupby('bet_name')['cash'].sum()"
   ]
  },
  {
   "cell_type": "code",
   "execution_count": 17,
   "id": "2dc13bd6-7cc8-4ca3-8f7a-747823c30b47",
   "metadata": {},
   "outputs": [
    {
     "data": {
      "text/html": [
       "<div>\n",
       "<style scoped>\n",
       "    .dataframe tbody tr th:only-of-type {\n",
       "        vertical-align: middle;\n",
       "    }\n",
       "\n",
       "    .dataframe tbody tr th {\n",
       "        vertical-align: top;\n",
       "    }\n",
       "\n",
       "    .dataframe thead th {\n",
       "        text-align: right;\n",
       "    }\n",
       "</style>\n",
       "<table border=\"1\" class=\"dataframe\">\n",
       "  <thead>\n",
       "    <tr style=\"text-align: right;\">\n",
       "      <th></th>\n",
       "      <th>fixture_id</th>\n",
       "      <th>bet_name</th>\n",
       "      <th>bet_number</th>\n",
       "      <th>match_result</th>\n",
       "      <th>bet_result</th>\n",
       "      <th>bet_value</th>\n",
       "    </tr>\n",
       "  </thead>\n",
       "  <tbody>\n",
       "    <tr>\n",
       "      <th>0</th>\n",
       "      <td>1164790</td>\n",
       "      <td>home_over_1</td>\n",
       "      <td>1</td>\n",
       "      <td>True</td>\n",
       "      <td>True</td>\n",
       "      <td>1.30</td>\n",
       "    </tr>\n",
       "    <tr>\n",
       "      <th>1</th>\n",
       "      <td>1179037</td>\n",
       "      <td>home_over_1</td>\n",
       "      <td>1</td>\n",
       "      <td>True</td>\n",
       "      <td>True</td>\n",
       "      <td>2.10</td>\n",
       "    </tr>\n",
       "    <tr>\n",
       "      <th>2</th>\n",
       "      <td>1152187</td>\n",
       "      <td>home_over_1</td>\n",
       "      <td>2</td>\n",
       "      <td>True</td>\n",
       "      <td>True</td>\n",
       "      <td>4.10</td>\n",
       "    </tr>\n",
       "    <tr>\n",
       "      <th>3</th>\n",
       "      <td>1152189</td>\n",
       "      <td>home_over_1</td>\n",
       "      <td>3</td>\n",
       "      <td>True</td>\n",
       "      <td>True</td>\n",
       "      <td>2.69</td>\n",
       "    </tr>\n",
       "    <tr>\n",
       "      <th>4</th>\n",
       "      <td>1195622</td>\n",
       "      <td>away_over_1</td>\n",
       "      <td>4</td>\n",
       "      <td>False</td>\n",
       "      <td>False</td>\n",
       "      <td>6.00</td>\n",
       "    </tr>\n",
       "    <tr>\n",
       "      <th>5</th>\n",
       "      <td>1179230</td>\n",
       "      <td>away_over_1</td>\n",
       "      <td>4</td>\n",
       "      <td>True</td>\n",
       "      <td>False</td>\n",
       "      <td>12.50</td>\n",
       "    </tr>\n",
       "    <tr>\n",
       "      <th>6</th>\n",
       "      <td>1195620</td>\n",
       "      <td>away_over_1</td>\n",
       "      <td>5</td>\n",
       "      <td>False</td>\n",
       "      <td>False</td>\n",
       "      <td>4.20</td>\n",
       "    </tr>\n",
       "    <tr>\n",
       "      <th>7</th>\n",
       "      <td>1179226</td>\n",
       "      <td>away_over_1</td>\n",
       "      <td>6</td>\n",
       "      <td>True</td>\n",
       "      <td>True</td>\n",
       "      <td>6.30</td>\n",
       "    </tr>\n",
       "    <tr>\n",
       "      <th>8</th>\n",
       "      <td>1179225</td>\n",
       "      <td>away_over_1</td>\n",
       "      <td>7</td>\n",
       "      <td>False</td>\n",
       "      <td>False</td>\n",
       "      <td>10.50</td>\n",
       "    </tr>\n",
       "    <tr>\n",
       "      <th>9</th>\n",
       "      <td>1164790</td>\n",
       "      <td>fh_result</td>\n",
       "      <td>8</td>\n",
       "      <td>False</td>\n",
       "      <td>False</td>\n",
       "      <td>6.50</td>\n",
       "    </tr>\n",
       "    <tr>\n",
       "      <th>10</th>\n",
       "      <td>1163544</td>\n",
       "      <td>fh_result</td>\n",
       "      <td>9</td>\n",
       "      <td>False</td>\n",
       "      <td>False</td>\n",
       "      <td>2.62</td>\n",
       "    </tr>\n",
       "    <tr>\n",
       "      <th>11</th>\n",
       "      <td>1179226</td>\n",
       "      <td>double_chance_home</td>\n",
       "      <td>10</td>\n",
       "      <td>False</td>\n",
       "      <td>False</td>\n",
       "      <td>2.86</td>\n",
       "    </tr>\n",
       "    <tr>\n",
       "      <th>12</th>\n",
       "      <td>1195622</td>\n",
       "      <td>double_chance_home</td>\n",
       "      <td>10</td>\n",
       "      <td>True</td>\n",
       "      <td>False</td>\n",
       "      <td>2.20</td>\n",
       "    </tr>\n",
       "    <tr>\n",
       "      <th>13</th>\n",
       "      <td>1163540</td>\n",
       "      <td>double_chance_home</td>\n",
       "      <td>11</td>\n",
       "      <td>True</td>\n",
       "      <td>True</td>\n",
       "      <td>4.00</td>\n",
       "    </tr>\n",
       "    <tr>\n",
       "      <th>14</th>\n",
       "      <td>1164790</td>\n",
       "      <td>double_chance_away</td>\n",
       "      <td>12</td>\n",
       "      <td>False</td>\n",
       "      <td>False</td>\n",
       "      <td>15.00</td>\n",
       "    </tr>\n",
       "  </tbody>\n",
       "</table>\n",
       "</div>"
      ],
      "text/plain": [
       "    fixture_id            bet_name  bet_number  match_result  bet_result  \\\n",
       "0      1164790         home_over_1           1          True        True   \n",
       "1      1179037         home_over_1           1          True        True   \n",
       "2      1152187         home_over_1           2          True        True   \n",
       "3      1152189         home_over_1           3          True        True   \n",
       "4      1195622         away_over_1           4         False       False   \n",
       "5      1179230         away_over_1           4          True       False   \n",
       "6      1195620         away_over_1           5         False       False   \n",
       "7      1179226         away_over_1           6          True        True   \n",
       "8      1179225         away_over_1           7         False       False   \n",
       "9      1164790           fh_result           8         False       False   \n",
       "10     1163544           fh_result           9         False       False   \n",
       "11     1179226  double_chance_home          10         False       False   \n",
       "12     1195622  double_chance_home          10          True       False   \n",
       "13     1163540  double_chance_home          11          True        True   \n",
       "14     1164790  double_chance_away          12         False       False   \n",
       "\n",
       "    bet_value  \n",
       "0        1.30  \n",
       "1        2.10  \n",
       "2        4.10  \n",
       "3        2.69  \n",
       "4        6.00  \n",
       "5       12.50  \n",
       "6        4.20  \n",
       "7        6.30  \n",
       "8       10.50  \n",
       "9        6.50  \n",
       "10       2.62  \n",
       "11       2.86  \n",
       "12       2.20  \n",
       "13       4.00  \n",
       "14      15.00  "
      ]
     },
     "execution_count": 17,
     "metadata": {},
     "output_type": "execute_result"
    }
   ],
   "source": [
    "df.head(15)"
   ]
  },
  {
   "cell_type": "code",
   "execution_count": 10,
   "id": "00d887df-9131-4c98-83b8-723513af8637",
   "metadata": {},
   "outputs": [
    {
     "data": {
      "text/html": [
       "<div>\n",
       "<style scoped>\n",
       "    .dataframe tbody tr th:only-of-type {\n",
       "        vertical-align: middle;\n",
       "    }\n",
       "\n",
       "    .dataframe tbody tr th {\n",
       "        vertical-align: top;\n",
       "    }\n",
       "\n",
       "    .dataframe thead th {\n",
       "        text-align: right;\n",
       "    }\n",
       "</style>\n",
       "<table border=\"1\" class=\"dataframe\">\n",
       "  <thead>\n",
       "    <tr style=\"text-align: right;\">\n",
       "      <th></th>\n",
       "      <th>bet_name</th>\n",
       "      <th>bet_result</th>\n",
       "      <th>num</th>\n",
       "    </tr>\n",
       "  </thead>\n",
       "  <tbody>\n",
       "    <tr>\n",
       "      <th>0</th>\n",
       "      <td>away_over_1</td>\n",
       "      <td>False</td>\n",
       "      <td>6</td>\n",
       "    </tr>\n",
       "    <tr>\n",
       "      <th>1</th>\n",
       "      <td>away_over_1</td>\n",
       "      <td>True</td>\n",
       "      <td>1</td>\n",
       "    </tr>\n",
       "    <tr>\n",
       "      <th>2</th>\n",
       "      <td>double_chance_away</td>\n",
       "      <td>False</td>\n",
       "      <td>10</td>\n",
       "    </tr>\n",
       "    <tr>\n",
       "      <th>3</th>\n",
       "      <td>double_chance_away</td>\n",
       "      <td>True</td>\n",
       "      <td>3</td>\n",
       "    </tr>\n",
       "    <tr>\n",
       "      <th>4</th>\n",
       "      <td>double_chance_home</td>\n",
       "      <td>False</td>\n",
       "      <td>2</td>\n",
       "    </tr>\n",
       "    <tr>\n",
       "      <th>5</th>\n",
       "      <td>double_chance_home</td>\n",
       "      <td>True</td>\n",
       "      <td>1</td>\n",
       "    </tr>\n",
       "    <tr>\n",
       "      <th>6</th>\n",
       "      <td>fh_result</td>\n",
       "      <td>False</td>\n",
       "      <td>5</td>\n",
       "    </tr>\n",
       "    <tr>\n",
       "      <th>7</th>\n",
       "      <td>fh_result</td>\n",
       "      <td>True</td>\n",
       "      <td>3</td>\n",
       "    </tr>\n",
       "    <tr>\n",
       "      <th>8</th>\n",
       "      <td>home_over_1</td>\n",
       "      <td>True</td>\n",
       "      <td>3</td>\n",
       "    </tr>\n",
       "    <tr>\n",
       "      <th>9</th>\n",
       "      <td>result</td>\n",
       "      <td>False</td>\n",
       "      <td>6</td>\n",
       "    </tr>\n",
       "    <tr>\n",
       "      <th>10</th>\n",
       "      <td>result</td>\n",
       "      <td>True</td>\n",
       "      <td>1</td>\n",
       "    </tr>\n",
       "  </tbody>\n",
       "</table>\n",
       "</div>"
      ],
      "text/plain": [
       "              bet_name  bet_result  num\n",
       "0          away_over_1       False    6\n",
       "1          away_over_1        True    1\n",
       "2   double_chance_away       False   10\n",
       "3   double_chance_away        True    3\n",
       "4   double_chance_home       False    2\n",
       "5   double_chance_home        True    1\n",
       "6            fh_result       False    5\n",
       "7            fh_result        True    3\n",
       "8          home_over_1        True    3\n",
       "9               result       False    6\n",
       "10              result        True    1"
      ]
     },
     "execution_count": 10,
     "metadata": {},
     "output_type": "execute_result"
    }
   ],
   "source": [
    "acc_by_bet_name"
   ]
  },
  {
   "cell_type": "code",
   "execution_count": 11,
   "id": "ae46e871-2f42-468a-a65b-e76fffb89e17",
   "metadata": {},
   "outputs": [
    {
     "data": {
      "text/html": [
       "<div>\n",
       "<style scoped>\n",
       "    .dataframe tbody tr th:only-of-type {\n",
       "        vertical-align: middle;\n",
       "    }\n",
       "\n",
       "    .dataframe tbody tr th {\n",
       "        vertical-align: top;\n",
       "    }\n",
       "\n",
       "    .dataframe thead th {\n",
       "        text-align: right;\n",
       "    }\n",
       "</style>\n",
       "<table border=\"1\" class=\"dataframe\">\n",
       "  <thead>\n",
       "    <tr style=\"text-align: right;\">\n",
       "      <th></th>\n",
       "      <th>bet_name</th>\n",
       "      <th>bet_result</th>\n",
       "      <th>num</th>\n",
       "    </tr>\n",
       "  </thead>\n",
       "  <tbody>\n",
       "    <tr>\n",
       "      <th>0</th>\n",
       "      <td>away_over_1</td>\n",
       "      <td>False</td>\n",
       "      <td>11</td>\n",
       "    </tr>\n",
       "    <tr>\n",
       "      <th>1</th>\n",
       "      <td>away_over_1</td>\n",
       "      <td>True</td>\n",
       "      <td>1</td>\n",
       "    </tr>\n",
       "    <tr>\n",
       "      <th>2</th>\n",
       "      <td>double_chance_away</td>\n",
       "      <td>False</td>\n",
       "      <td>16</td>\n",
       "    </tr>\n",
       "    <tr>\n",
       "      <th>3</th>\n",
       "      <td>double_chance_away</td>\n",
       "      <td>True</td>\n",
       "      <td>3</td>\n",
       "    </tr>\n",
       "    <tr>\n",
       "      <th>4</th>\n",
       "      <td>double_chance_home</td>\n",
       "      <td>False</td>\n",
       "      <td>6</td>\n",
       "    </tr>\n",
       "    <tr>\n",
       "      <th>5</th>\n",
       "      <td>double_chance_home</td>\n",
       "      <td>True</td>\n",
       "      <td>1</td>\n",
       "    </tr>\n",
       "    <tr>\n",
       "      <th>6</th>\n",
       "      <td>fh_result</td>\n",
       "      <td>False</td>\n",
       "      <td>5</td>\n",
       "    </tr>\n",
       "    <tr>\n",
       "      <th>7</th>\n",
       "      <td>fh_result</td>\n",
       "      <td>True</td>\n",
       "      <td>3</td>\n",
       "    </tr>\n",
       "    <tr>\n",
       "      <th>8</th>\n",
       "      <td>home_over_1</td>\n",
       "      <td>False</td>\n",
       "      <td>1</td>\n",
       "    </tr>\n",
       "    <tr>\n",
       "      <th>9</th>\n",
       "      <td>home_over_1</td>\n",
       "      <td>True</td>\n",
       "      <td>4</td>\n",
       "    </tr>\n",
       "    <tr>\n",
       "      <th>10</th>\n",
       "      <td>result</td>\n",
       "      <td>False</td>\n",
       "      <td>12</td>\n",
       "    </tr>\n",
       "    <tr>\n",
       "      <th>11</th>\n",
       "      <td>result</td>\n",
       "      <td>True</td>\n",
       "      <td>2</td>\n",
       "    </tr>\n",
       "  </tbody>\n",
       "</table>\n",
       "</div>"
      ],
      "text/plain": [
       "              bet_name  bet_result  num\n",
       "0          away_over_1       False   11\n",
       "1          away_over_1        True    1\n",
       "2   double_chance_away       False   16\n",
       "3   double_chance_away        True    3\n",
       "4   double_chance_home       False    6\n",
       "5   double_chance_home        True    1\n",
       "6            fh_result       False    5\n",
       "7            fh_result        True    3\n",
       "8          home_over_1       False    1\n",
       "9          home_over_1        True    4\n",
       "10              result       False   12\n",
       "11              result        True    2"
      ]
     },
     "execution_count": 11,
     "metadata": {},
     "output_type": "execute_result"
    }
   ],
   "source": [
    "match_acc_by_bet_name"
   ]
  },
  {
   "cell_type": "code",
   "execution_count": 12,
   "id": "a3fad74a-1749-401f-8a28-cd5609c7f367",
   "metadata": {},
   "outputs": [
    {
     "data": {
      "text/plain": [
       "bet_name\n",
       "away_over_1           -7.0\n",
       "double_chance_away   -41.7\n",
       "double_chance_home    10.0\n",
       "fh_result             15.4\n",
       "home_over_1           65.2\n",
       "result               -40.0\n",
       "Name: cash, dtype: float64"
      ]
     },
     "execution_count": 12,
     "metadata": {},
     "output_type": "execute_result"
    }
   ],
   "source": [
    "incomes"
   ]
  },
  {
   "cell_type": "code",
   "execution_count": 24,
   "id": "55798cc3-9968-4589-b704-6120b01c0b74",
   "metadata": {},
   "outputs": [
    {
     "data": {
      "text/plain": [
       "<function matplotlib.pyplot.show(close=None, block=None)>"
      ]
     },
     "execution_count": 24,
     "metadata": {},
     "output_type": "execute_result"
    },
    {
     "data": {
      "image/png": "[encoded data removed]",
      "text/plain": [
       "<Figure size 640x480 with 1 Axes>"
      ]
     },
     "metadata": {},
     "output_type": "display_data"
    }
   ],
   "source": [
    "import seaborn as sns\n",
    "import matplotlib.pyplot as plt\n",
    "\n",
    "#incomes.plot(kind='bar')\n",
    "#plt.tight_layout()\n",
    "\n",
    "\n",
    "sns.barplot(x='bet_name', y='num', hue='bet_result', data=match_acc_by_bet_name)\n",
    "\n",
    "plt.xticks(rotation=45)\n",
    "plt.tight_layout()\n",
    "plt.show"
   ]
  },
  {
   "cell_type": "code",
   "execution_count": 24,
   "id": "ca88df1f-0cc5-47ad-ae15-21d2ca72bca1",
   "metadata": {},
   "outputs": [],
   "source": [
    "import json\n",
    "from datetime import date, timedelta\n",
    "t = date.today()\n",
    "t += timedelta(1)\n",
    "with open('data/odds.json','w') as f:\n",
    "    json.dump((t.isoformat(), []), f)"
   ]
  },
  {
   "cell_type": "code",
   "execution_count": 9,
   "id": "a93ceeec-c7e1-421e-bd73-4c29e11177cf",
   "metadata": {},
   "outputs": [],
   "source": [
    "a = (t, [1,2,3,4,5,6])"
   ]
  },
  {
   "cell_type": "code",
   "execution_count": 13,
   "id": "d608baf9-afb9-47d2-9977-99f41f077a95",
   "metadata": {},
   "outputs": [
    {
     "data": {
      "text/plain": [
       "'2024-07-19'"
      ]
     },
     "execution_count": 13,
     "metadata": {},
     "output_type": "execute_result"
    }
   ],
   "source": [
    "t.isoformat()"
   ]
  },
  {
   "cell_type": "code",
   "execution_count": 17,
   "id": "db3dc1d6-62ca-4ab2-a640-f15a76a7782b",
   "metadata": {},
   "outputs": [],
   "source": [
    "with open('data/odds.json','r') as f:\n",
    "    ass = json.load(f)"
   ]
  },
  {
   "cell_type": "code",
   "execution_count": 23,
   "id": "bf1bbab9-cc67-4d22-9c12-4d370a68bdb4",
   "metadata": {},
   "outputs": [
    {
     "name": "stdout",
     "output_type": "stream",
     "text": [
      "a\n"
     ]
    }
   ],
   "source": [
    "if ass[0] == t.isoformat():\n",
    "    print('a')\n",
    "else:\n",
    "    print('b')"
   ]
  },
  {
   "cell_type": "code",
   "execution_count": null,
   "id": "c238a198-de5f-45b9-967a-fd39e519c8cc",
   "metadata": {},
   "outputs": [],
   "source": []
  },
  {
   "cell_type": "code",
   "execution_count": null,
   "id": "5c1b79e6-a151-4f37-a96f-2d732a486fb1",
   "metadata": {},
   "outputs": [],
   "source": []
  }
 ],
 "metadata": {
  "kernelspec": {
   "display_name": "Python 3 (ipykernel)",
   "language": "python",
   "name": "python3"
  },
  "language_info": {
   "codemirror_mode": {
    "name": "ipython",
    "version": 3
   },
   "file_extension": ".py",
   "mimetype": "text/x-python",
   "name": "python",
   "nbconvert_exporter": "python",
   "pygments_lexer": "ipython3",
   "version": "3.12.4"
  }
 },
 "nbformat": 4,
 "nbformat_minor": 5
}
