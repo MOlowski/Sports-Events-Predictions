{
 "cells": [
  {
   "cell_type": "code",
   "execution_count": 10,
   "id": "68daf659-72ed-4b5b-9f57-3c16a9a2e720",
   "metadata": {
    "jupyter": {
     "source_hidden": true
    }
   },
   "outputs": [],
   "source": [
    "def get_data(endpoint, params):\n",
    "    \n",
    "    URL = \"https://v3.football.api-sports.io/\"\n",
    "    headers = {\n",
    "\t'x-rapidapi-host': \"v3.football.api-sports.io\",\n",
    "    'x-rapidapi-key': \"fb2140228973d644db847895c454c22b\"\n",
    "    }\n",
    "    \n",
    "    response = requests.get(\n",
    "        URL+endpoint,\n",
    "        headers = headers,\n",
    "        params = params\n",
    "    )\n",
    "    if response.status_code == 200:\n",
    "            \n",
    "        remaining = response.headers.get(\"x-ratelimit-requests-remaining\")\n",
    "        data = response.json()\n",
    "        print(f\"requests before reaching limit {remaining}\")\n",
    "\n",
    "    else:\n",
    "        print(f\"Error {response.status_code}, {response.text}\")\n",
    "\n",
    "    return data, remaining                                                                     "
   ]
  },
  {
   "cell_type": "code",
   "execution_count": 11,
   "id": "2957b722-59e5-4d22-b404-e31e613a59b2",
   "metadata": {
    "jupyter": {
     "source_hidden": true
    }
   },
   "outputs": [],
   "source": [
    "def encode_data(data_dict, parent_key = '', sep= '_'):\n",
    "    encoded = []\n",
    "    for key, val in data_dict.items():\n",
    "        new_key = f'{parent_key}{sep}{key}' if parent_key else key\n",
    "        if isinstance(val, dict):\n",
    "            encoded.extend(encode_data(val, new_key, sep=sep).items())\n",
    "        elif isinstance(val, list):\n",
    "            if val:\n",
    "                if all(isinstance(i, dict) for i in val):\n",
    "                    for k, v in enumerate(val):\n",
    "                        v_key = f'{new_key}{sep}{k}'\n",
    "                        encoded.extend(encode_data(v, v_key, sep=sep).items())\n",
    "                else:\n",
    "                    encoded.append((new_key, val))\n",
    "            else:\n",
    "                encoded.append((new_key, []))\n",
    "        else:\n",
    "            encoded.append((new_key, val))\n",
    "    return dict(encoded)"
   ]
  },
  {
   "cell_type": "code",
   "execution_count": null,
   "id": "45effbf5-d6af-460a-ba5c-f4b65848a408",
   "metadata": {
    "jupyter": {
     "source_hidden": true
    }
   },
   "outputs": [],
   "source": [
    "def fix_to_pred(db_params, start_date, end_date):\n",
    "    query = '''\n",
    "    SELECT *\n",
    "    FROM fixtures\n",
    "    WHERE fixture_date > start_date and fixture_date < end_date\n",
    "    '''\n",
    "    conn = None\n",
    "    cur = None\n",
    "    \n",
    "    try:\n",
    "        conn = psycopg2.connect(db_params)\n",
    "        cur = conn.cursor()\n",
    "\n",
    "        cur.execute(query)\n",
    "\n",
    "        rows = cur.fetchall()\n",
    "\n",
    "        col_names = [desc[0] for desc in cur.description]\n",
    "\n",
    "        df = pd.DataFrame(rows, columns = col_names)\n",
    "\n",
    "        return df\n",
    "    \n",
    "    except Exception as e:\n",
    "        print(f'Error {e}')\n",
    "        return None\n",
    "\n",
    "    finally:\n",
    "        if cur is not None:\n",
    "            cur.close()\n",
    "        if conn is not None:\n",
    "            conn.close()"
   ]
  },
  {
   "cell_type": "code",
   "execution_count": null,
   "id": "b7be5ec8-3fbc-4d5d-80d6-dcaabb83f7c2",
   "metadata": {
    "jupyter": {
     "source_hidden": true
    }
   },
   "outputs": [],
   "source": [
    "def data_to_sql(table_name, df, db_params, conflict_columns, update_columns):\n",
    "    conn = None\n",
    "    cur = None\n",
    "    try:\n",
    "        # Establish the connection\n",
    "        conn = psycopg2.connect(**db_params)\n",
    "        cur = conn.cursor()\n",
    "        \n",
    "        #insert data into tables\n",
    "        if len(conflict_columns) == 0:\n",
    "            insert_query = \"\"\"\n",
    "                INSERT INTO {} ({})\n",
    "                VALUES ({})\n",
    "            \"\"\".format(table_name, ','.join(df.columns), ','.join(['%s']*len(df.columns)))\n",
    "        else:\n",
    "            if update_columns:\n",
    "                update_set = ', '.join([f\"{col} = EXCLUDED.{col}\" for col in update_columns])\n",
    "                insert_query = \"\"\"\n",
    "                    INSERT INTO {} ({})\n",
    "                    VALUES ({})\n",
    "                    ON CONFLICT ({}) DO UPDATE SET {}\n",
    "                \"\"\".format(table_name, ','.join(df.columns), ','.join(['%s']*len(df.columns)), ','.join(conflict_columns), update_set)\n",
    "            else:\n",
    "                insert_query = \"\"\"\n",
    "                    INSERT INTO {} ({})\n",
    "                    VALUES ({})\n",
    "                    ON CONFLICT ({}) DO NOTHING\n",
    "                \"\"\".format(table_name, ','.join(df.columns), ','.join(['%s']*len(df.columns)), ','.join(conflict_columns))\n",
    "\n",
    "        # Execute insert query for each row\n",
    "        for row in df.itertuples(index=False, name=None):\n",
    "            cur.execute(insert_query, row)\n",
    "        \n",
    "        # Commit the transaction\n",
    "        conn.commit()       \n",
    "    except Exception as e:\n",
    "        print(f\"Error: {e}\")\n",
    "        if conn:\n",
    "            conn.rollback()\n",
    "\n",
    "    finally:\n",
    "        if conn is not None:\n",
    "            # Close the cursor and connection\n",
    "            cur.close()\n",
    "        if cur is not None:\n",
    "            conn.close()"
   ]
  },
  {
   "cell_type": "code",
   "execution_count": null,
   "id": "12833f59-e517-4f1a-b86e-1c8208404c4d",
   "metadata": {},
   "outputs": [],
   "source": [
    "import pandas as pd\n",
    "\n",
    "start_date = ''\n",
    "end_date = ''\n",
    "db_params = {\n",
    "    'database' : 'preds',\n",
    "    'user' : 'postgres',\n",
    "    'password' : 'pass',\n",
    "    'host' : 'localhost',\n",
    "    'port' : '5432'}\n",
    "\n",
    "\n",
    "to_pred_df = fix_to_pred(db_params, start_date, end_date)\n",
    "\n",
    "# prediction code\n",
    "\n",
    "\n",
    "\n",
    "# save to sql predictions table\n",
    "\n",
    "\n",
    "data_to_sql('predictions', pred_df, db_params, '', '')"
   ]
  }
 ],
 "metadata": {
  "kernelspec": {
   "display_name": "Python 3 (ipykernel)",
   "language": "python",
   "name": "python3"
  },
  "language_info": {
   "codemirror_mode": {
    "name": "ipython",
    "version": 3
   },
   "file_extension": ".py",
   "mimetype": "text/x-python",
   "name": "python",
   "nbconvert_exporter": "python",
   "pygments_lexer": "ipython3",
   "version": "3.12.3"
  }
 },
 "nbformat": 4,
 "nbformat_minor": 5
}
