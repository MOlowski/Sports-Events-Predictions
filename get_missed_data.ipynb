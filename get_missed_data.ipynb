{
 "cells": [
  {
   "cell_type": "code",
   "execution_count": 1,
   "id": "25e861fc-49a1-47b4-9152-2d94939c84c9",
   "metadata": {
    "jupyter": {
     "source_hidden": true
    }
   },
   "outputs": [],
   "source": [
    "import requests\n",
    "import pandas as pd\n",
    "\n",
    "seasons = pd.read_csv('data/seasons.csv')\n",
    "eur_seasons = pd.read_csv('data/european_seasons.csv')"
   ]
  },
  {
   "cell_type": "code",
   "execution_count": 5,
   "id": "2d5faa4d-9501-46d8-939c-b2b250390cef",
   "metadata": {
    "collapsed": true,
    "jupyter": {
     "outputs_hidden": true,
     "source_hidden": true
    },
    "scrolled": true
   },
   "outputs": [
    {
     "data": {
      "text/html": [
       "<div>\n",
       "<style scoped>\n",
       "    .dataframe tbody tr th:only-of-type {\n",
       "        vertical-align: middle;\n",
       "    }\n",
       "\n",
       "    .dataframe tbody tr th {\n",
       "        vertical-align: top;\n",
       "    }\n",
       "\n",
       "    .dataframe thead th {\n",
       "        text-align: right;\n",
       "    }\n",
       "</style>\n",
       "<table border=\"1\" class=\"dataframe\">\n",
       "  <thead>\n",
       "    <tr style=\"text-align: right;\">\n",
       "      <th></th>\n",
       "      <th>Unnamed: 0</th>\n",
       "      <th>league_id</th>\n",
       "      <th>name</th>\n",
       "      <th>country</th>\n",
       "      <th>year</th>\n",
       "      <th>players</th>\n",
       "      <th>statistics_fixtures</th>\n",
       "      <th>current</th>\n",
       "      <th>predictions</th>\n",
       "      <th>odds</th>\n",
       "    </tr>\n",
       "  </thead>\n",
       "  <tbody>\n",
       "    <tr>\n",
       "      <th>0</th>\n",
       "      <td>0</td>\n",
       "      <td>39</td>\n",
       "      <td>Premier League</td>\n",
       "      <td>England</td>\n",
       "      <td>2010</td>\n",
       "      <td>True</td>\n",
       "      <td>False</td>\n",
       "      <td>False</td>\n",
       "      <td>True</td>\n",
       "      <td>False</td>\n",
       "    </tr>\n",
       "    <tr>\n",
       "      <th>1</th>\n",
       "      <td>1</td>\n",
       "      <td>39</td>\n",
       "      <td>Premier League</td>\n",
       "      <td>England</td>\n",
       "      <td>2011</td>\n",
       "      <td>True</td>\n",
       "      <td>False</td>\n",
       "      <td>False</td>\n",
       "      <td>True</td>\n",
       "      <td>False</td>\n",
       "    </tr>\n",
       "    <tr>\n",
       "      <th>2</th>\n",
       "      <td>2</td>\n",
       "      <td>39</td>\n",
       "      <td>Premier League</td>\n",
       "      <td>England</td>\n",
       "      <td>2012</td>\n",
       "      <td>True</td>\n",
       "      <td>False</td>\n",
       "      <td>False</td>\n",
       "      <td>True</td>\n",
       "      <td>False</td>\n",
       "    </tr>\n",
       "    <tr>\n",
       "      <th>3</th>\n",
       "      <td>3</td>\n",
       "      <td>39</td>\n",
       "      <td>Premier League</td>\n",
       "      <td>England</td>\n",
       "      <td>2013</td>\n",
       "      <td>True</td>\n",
       "      <td>False</td>\n",
       "      <td>False</td>\n",
       "      <td>True</td>\n",
       "      <td>False</td>\n",
       "    </tr>\n",
       "    <tr>\n",
       "      <th>4</th>\n",
       "      <td>4</td>\n",
       "      <td>39</td>\n",
       "      <td>Premier League</td>\n",
       "      <td>England</td>\n",
       "      <td>2014</td>\n",
       "      <td>True</td>\n",
       "      <td>True</td>\n",
       "      <td>False</td>\n",
       "      <td>True</td>\n",
       "      <td>False</td>\n",
       "    </tr>\n",
       "  </tbody>\n",
       "</table>\n",
       "</div>"
      ],
      "text/plain": [
       "   Unnamed: 0  league_id            name  country  year  players  \\\n",
       "0           0         39  Premier League  England  2010     True   \n",
       "1           1         39  Premier League  England  2011     True   \n",
       "2           2         39  Premier League  England  2012     True   \n",
       "3           3         39  Premier League  England  2013     True   \n",
       "4           4         39  Premier League  England  2014     True   \n",
       "\n",
       "   statistics_fixtures  current  predictions   odds  \n",
       "0                False    False         True  False  \n",
       "1                False    False         True  False  \n",
       "2                False    False         True  False  \n",
       "3                False    False         True  False  \n",
       "4                 True    False         True  False  "
      ]
     },
     "execution_count": 5,
     "metadata": {},
     "output_type": "execute_result"
    }
   ],
   "source": [
    "eur_seasons.head()"
   ]
  },
  {
   "cell_type": "code",
   "execution_count": 18,
   "id": "3ea95f94-4fa9-44ea-ab9a-edf45d2bcdf2",
   "metadata": {
    "collapsed": true,
    "jupyter": {
     "outputs_hidden": true,
     "source_hidden": true
    },
    "scrolled": true
   },
   "outputs": [
    {
     "name": "stdout",
     "output_type": "stream",
     "text": [
      "requests before reaching limit 99\n"
     ]
    }
   ],
   "source": [
    "df, r = get_data('fixtures',{'league':39, 'season':2023})\n",
    "fix = [encode_data(row) for row in df['response']]"
   ]
  },
  {
   "cell_type": "code",
   "execution_count": 191,
   "id": "c8c304cb-58d9-42ad-bce3-86b58e0e100e",
   "metadata": {
    "jupyter": {
     "source_hidden": true
    }
   },
   "outputs": [],
   "source": [
    "fdf = pd.DataFrame(fix)\n",
    "fdf['fixture_date'] = pd.to_datetime(fdf['fixture_date']).dt.date"
   ]
  },
  {
   "cell_type": "code",
   "execution_count": 192,
   "id": "aaf23bf2-ea5d-4aba-a777-c9fb5335499e",
   "metadata": {
    "jupyter": {
     "source_hidden": true
    }
   },
   "outputs": [],
   "source": [
    "home = fdf[[\n",
    "    'fixture_date', \n",
    "    'teams_home_id', \n",
    "    'goals_home',\n",
    "    'goals_away',\n",
    "    'teams_home_winner', \n",
    "    'league_round'\n",
    "    ]].rename(columns={\n",
    "    'teams_home_id':'team_id',\n",
    "    'goals_home':'goals_scored',\n",
    "    'goals_away':'goals_lost',\n",
    "    'teams_home_winner':'points'\n",
    "    })\n",
    "away = fdf[[\n",
    "    'fixture_date', \n",
    "    'teams_away_id', \n",
    "    'goals_away',\n",
    "    'goals_home',\n",
    "    'teams_away_winner', \n",
    "    'league_round'\n",
    "    ]].rename(columns={\n",
    "    'teams_away_id':'team_id', \n",
    "    'goals_away':'goals_scored',\n",
    "    'goals_home':'goals_lost',\n",
    "    'teams_away_winner':'points'\n",
    "    })"
   ]
  },
  {
   "cell_type": "code",
   "execution_count": 193,
   "id": "43e647a6-09ea-4c2d-9bab-8aac62998fb5",
   "metadata": {
    "jupyter": {
     "source_hidden": true
    }
   },
   "outputs": [],
   "source": [
    "total = pd.concat([home, away])\n",
    "total = total.sort_values(by='fixture_date')\n",
    "total['total_goals_scored'] = total[['fixture_date','team_id','goals_scored']].groupby('team_id')['goals_scored'].cumsum()\n",
    "total['total_goals_lost'] = total[['fixture_date','team_id','goals_lost']].groupby('team_id')['goals_lost'].cumsum()"
   ]
  },
  {
   "cell_type": "code",
   "execution_count": 194,
   "id": "41372068-1ad0-403e-99da-a8f86b48b540",
   "metadata": {
    "jupyter": {
     "source_hidden": true
    }
   },
   "outputs": [],
   "source": [
    "def logic(x):\n",
    "    if x==True:\n",
    "        return 3\n",
    "    elif x==False:\n",
    "        return 0\n",
    "    else:\n",
    "        return 1"
   ]
  },
  {
   "cell_type": "code",
   "execution_count": 195,
   "id": "0bf77c1e-5d69-4213-8d5e-6aee084e2e07",
   "metadata": {
    "jupyter": {
     "source_hidden": true
    },
    "scrolled": true
   },
   "outputs": [],
   "source": [
    "total = pd.concat([home, away])\n",
    "total = total.sort_values(by='fixture_date')\n",
    "total['total_goals_scored'] = total[['fixture_date','team_id','goals_scored']].groupby('team_id')['goals_scored'].cumsum()\n",
    "total['total_goals_lost'] = total[['fixture_date','team_id','goals_lost']].groupby('team_id')['goals_lost'].cumsum()\n",
    "\n",
    "total = total.sort_values(by='fixture_date')\n",
    "total['points'] = total['points'].apply(logic)\n",
    "total['total_points'] = total[['fixture_date', 'team_id', 'league_round', 'points']].groupby('team_id')['points'].cumsum()\n",
    "\n",
    "total.sort_values(by=['league_round','total_points','total_goals_scored','fixture_date'], ascending=[True,False,False,True])\n",
    "total['standings'] = total.groupby('league_round')['total_points'].rank(method='min', ascending=False)\n",
    "total['standings'] = total['standings'].astype(int)\n",
    "\n",
    "total = total.sort_values(by=['team_id','fixture_date'])\n",
    "total['points_last_5_matches'] = total.groupby('team_id')['points'].rolling(window=5, min_periods=1).sum().reset_index(level=0, drop=True)\n",
    "total['points_last_5_matches'] = total['points_last_5_matches'].fillna(0)\n",
    "total['points_last_5_matches'] = total['points_last_5_matches'].astype(int)"
   ]
  },
  {
   "cell_type": "code",
   "execution_count": 196,
   "id": "911f3775-1114-460e-b191-4c212764fa96",
   "metadata": {
    "collapsed": true,
    "jupyter": {
     "outputs_hidden": true,
     "source_hidden": true
    },
    "scrolled": true
   },
   "outputs": [
    {
     "data": {
      "text/html": [
       "<div>\n",
       "<style scoped>\n",
       "    .dataframe tbody tr th:only-of-type {\n",
       "        vertical-align: middle;\n",
       "    }\n",
       "\n",
       "    .dataframe tbody tr th {\n",
       "        vertical-align: top;\n",
       "    }\n",
       "\n",
       "    .dataframe thead th {\n",
       "        text-align: right;\n",
       "    }\n",
       "</style>\n",
       "<table border=\"1\" class=\"dataframe\">\n",
       "  <thead>\n",
       "    <tr style=\"text-align: right;\">\n",
       "      <th></th>\n",
       "      <th>fixture_date</th>\n",
       "      <th>team_id</th>\n",
       "      <th>goals_scored</th>\n",
       "      <th>goals_lost</th>\n",
       "      <th>points</th>\n",
       "      <th>league_round</th>\n",
       "      <th>total_goals_scored</th>\n",
       "      <th>total_goals_lost</th>\n",
       "      <th>total_points</th>\n",
       "      <th>standings</th>\n",
       "      <th>points_last_5_matches</th>\n",
       "    </tr>\n",
       "  </thead>\n",
       "  <tbody>\n",
       "    <tr>\n",
       "      <th>335</th>\n",
       "      <td>2024-04-20</td>\n",
       "      <td>1359</td>\n",
       "      <td>1</td>\n",
       "      <td>5</td>\n",
       "      <td>0</td>\n",
       "      <td>Regular Season - 34</td>\n",
       "      <td>47</td>\n",
       "      <td>75</td>\n",
       "      <td>25</td>\n",
       "      <td>18</td>\n",
       "      <td>3</td>\n",
       "    </tr>\n",
       "    <tr>\n",
       "      <th>349</th>\n",
       "      <td>2024-04-27</td>\n",
       "      <td>1359</td>\n",
       "      <td>1</td>\n",
       "      <td>2</td>\n",
       "      <td>0</td>\n",
       "      <td>Regular Season - 35</td>\n",
       "      <td>48</td>\n",
       "      <td>77</td>\n",
       "      <td>25</td>\n",
       "      <td>18</td>\n",
       "      <td>3</td>\n",
       "    </tr>\n",
       "    <tr>\n",
       "      <th>357</th>\n",
       "      <td>2024-05-03</td>\n",
       "      <td>1359</td>\n",
       "      <td>1</td>\n",
       "      <td>1</td>\n",
       "      <td>1</td>\n",
       "      <td>Regular Season - 36</td>\n",
       "      <td>49</td>\n",
       "      <td>78</td>\n",
       "      <td>26</td>\n",
       "      <td>18</td>\n",
       "      <td>4</td>\n",
       "    </tr>\n",
       "    <tr>\n",
       "      <th>368</th>\n",
       "      <td>2024-05-11</td>\n",
       "      <td>1359</td>\n",
       "      <td>1</td>\n",
       "      <td>3</td>\n",
       "      <td>0</td>\n",
       "      <td>Regular Season - 37</td>\n",
       "      <td>50</td>\n",
       "      <td>81</td>\n",
       "      <td>26</td>\n",
       "      <td>18</td>\n",
       "      <td>1</td>\n",
       "    </tr>\n",
       "    <tr>\n",
       "      <th>377</th>\n",
       "      <td>2024-05-19</td>\n",
       "      <td>1359</td>\n",
       "      <td>2</td>\n",
       "      <td>4</td>\n",
       "      <td>0</td>\n",
       "      <td>Regular Season - 38</td>\n",
       "      <td>52</td>\n",
       "      <td>85</td>\n",
       "      <td>26</td>\n",
       "      <td>18</td>\n",
       "      <td>1</td>\n",
       "    </tr>\n",
       "  </tbody>\n",
       "</table>\n",
       "</div>"
      ],
      "text/plain": [
       "    fixture_date  team_id  goals_scored  goals_lost  points  \\\n",
       "335   2024-04-20     1359             1           5       0   \n",
       "349   2024-04-27     1359             1           2       0   \n",
       "357   2024-05-03     1359             1           1       1   \n",
       "368   2024-05-11     1359             1           3       0   \n",
       "377   2024-05-19     1359             2           4       0   \n",
       "\n",
       "            league_round  total_goals_scored  total_goals_lost  total_points  \\\n",
       "335  Regular Season - 34                  47                75            25   \n",
       "349  Regular Season - 35                  48                77            25   \n",
       "357  Regular Season - 36                  49                78            26   \n",
       "368  Regular Season - 37                  50                81            26   \n",
       "377  Regular Season - 38                  52                85            26   \n",
       "\n",
       "     standings  points_last_5_matches  \n",
       "335         18                      3  \n",
       "349         18                      3  \n",
       "357         18                      4  \n",
       "368         18                      1  \n",
       "377         18                      1  "
      ]
     },
     "execution_count": 196,
     "metadata": {},
     "output_type": "execute_result"
    }
   ],
   "source": [
    "total.tail(5)"
   ]
  },
  {
   "cell_type": "code",
   "execution_count": 197,
   "id": "ce7e5245-9e09-40c6-8874-8bb264393a3e",
   "metadata": {},
   "outputs": [],
   "source": [
    "#total_points = total_points.merge(total_goals, on=['fixture_date','team_id']).drop(columns=['points','goals'])"
   ]
  },
  {
   "cell_type": "code",
   "execution_count": 200,
   "id": "9d373799-e11f-4a38-9d7d-56abfc5b99ba",
   "metadata": {
    "jupyter": {
     "source_hidden": true
    },
    "scrolled": true
   },
   "outputs": [],
   "source": [
    "fdf = fdf.merge(total[[\n",
    "    'fixture_date',\n",
    "    'team_id',\n",
    "    'total_goals_scored',\n",
    "    'total_goals_lost', \n",
    "    'points', \n",
    "    'total_points', \n",
    "    'standings',\n",
    "    'points_last_5_matches'\n",
    "    ]], left_on = [\n",
    "        'fixture_date',\n",
    "        'teams_home_id'\n",
    "        ],right_on = [\n",
    "        'fixture_date',\n",
    "        'team_id'\n",
    "        ], how='left'\n",
    "        ).rename(columns={\n",
    "            'total_goals_scored':'teams_home_total_goals_scored',\n",
    "            'total_goals_lost':'teams_home_total_goals_lost',\n",
    "            'points':'teams_home_points',\n",
    "            'total_points':'teams_home_total_points',\n",
    "            'standings':'teams_home_standings',\n",
    "            'points_last_5_matches':'teams_home_last_five_matches_points'\n",
    "        }).drop(columns='team_id')\n",
    "\n",
    "fdf = fdf.merge(total[[\n",
    "    'fixture_date',\n",
    "    'team_id',\n",
    "    'total_goals_scored',\n",
    "    'total_goals_lost', \n",
    "    'points', \n",
    "    'total_points', \n",
    "    'standings',\n",
    "    'points_last_5_matches'\n",
    "    ]], left_on = [\n",
    "        'fixture_date',\n",
    "        'teams_away_id'\n",
    "        ],right_on = [\n",
    "        'fixture_date',\n",
    "        'team_id'\n",
    "        ], how='left'\n",
    "        ).rename(columns={\n",
    "            'total_goals_scored':'teams_away_total_goals_scored',\n",
    "            'total_goals_lost':'teams_away_total_goals_lost',\n",
    "            'points':'teams_away_points',\n",
    "            'total_points':'teams_away_total_points',\n",
    "            'standings':'teams_away_standings',\n",
    "            'points_last_5_matches':'teams_away_last_five_matches_points'\n",
    "        }).drop(columns='team_id')"
   ]
  },
  {
   "cell_type": "code",
   "execution_count": 82,
   "id": "815b9a39-4190-4a90-ad9a-82369e80847f",
   "metadata": {
    "jupyter": {
     "source_hidden": true
    }
   },
   "outputs": [],
   "source": [
    "fdf = fdf.merge(total_goals[['fixture_date','team_id','total_goals']], left_on=['fixture_date','teams_home_id'], right_on=['fixture_date','team_id'], how='left').drop(columns=['team_id']).rename(columns={'total_goals':'goals_home_total'})\n",
    "fdf = fdf.merge(total_goals[['fixture_date','team_id','total_goals']], left_on=['fixture_date','teams_away_id'], right_on=['fixture_date','team_id'], how='left').drop(columns=['team_id']).rename(columns={'total_goals':'goals_away_total'})\n",
    "fdf = fdf.merge(total_points[['fixture_date','team_id','total_points']], left_on=['fixture_date','teams_home_id'], right_on=['fixture_date','team_id'], how='left').drop(columns=['team_id']).rename(columns={'total_points':'points_home_total'})\n",
    "fdf = fdf.merge(total_points[['fixture_date','team_id','total_points']], left_on=['fixture_date','teams_away_id'], right_on=['fixture_date','team_id'], how='left').drop(columns=['team_id']).rename(columns={'total_points':'points_away_total'})"
   ]
  },
  {
   "cell_type": "code",
   "execution_count": 207,
   "id": "cf448c12-7f01-4912-85f9-3964be11ce42",
   "metadata": {},
   "outputs": [
    {
     "data": {
      "text/plain": [
       "0"
      ]
     },
     "execution_count": 207,
     "metadata": {},
     "output_type": "execute_result"
    }
   ],
   "source": []
  },
  {
   "cell_type": "code",
   "execution_count": 17,
   "id": "95fadab1-4bd4-4f0a-95b4-23d37ff40360",
   "metadata": {
    "jupyter": {
     "source_hidden": true
    }
   },
   "outputs": [],
   "source": [
    "def get_data(endpoint, params):\n",
    "    \n",
    "    URL = \"https://v3.football.api-sports.io/\"\n",
    "    headers = {\n",
    "\t'x-rapidapi-host': \"v3.football.api-sports.io\",\n",
    "    'x-rapidapi-key': \"fb2140228973d644db847895c454c22b\"\n",
    "    }\n",
    "    \n",
    "    response = requests.get(\n",
    "        URL+endpoint,\n",
    "        headers = headers,\n",
    "        params = params\n",
    "    )\n",
    "    if response.status_code == 200:\n",
    "            \n",
    "        remaining = response.headers.get(\"x-ratelimit-requests-remaining\")\n",
    "        data = response.json()\n",
    "        print(f\"requests before reaching limit {remaining}\")\n",
    "\n",
    "    else:\n",
    "        print(f\"Error {response.status_code}, {response.text}\")\n",
    "\n",
    "    return data, remaining                                                                     "
   ]
  },
  {
   "cell_type": "code",
   "execution_count": 20,
   "id": "4eb9b678-f7f2-499b-83b4-1469fec1c71c",
   "metadata": {
    "jupyter": {
     "source_hidden": true
    }
   },
   "outputs": [],
   "source": [
    "def encode_data(data_dict, parent_key = '', sep= '_'):\n",
    "    encoded = []\n",
    "    for key, val in data_dict.items():\n",
    "        new_key = f'{parent_key}{sep}{key}' if parent_key else key\n",
    "        if isinstance(val, dict):\n",
    "            encoded.extend(encode_data(val, new_key, sep=sep).items())\n",
    "        elif isinstance(val, list):\n",
    "            if val:\n",
    "                if all(isinstance(i, dict) for i in val):\n",
    "                    for k, v in enumerate(val):\n",
    "                        v_key = f'{new_key}{sep}{k}'\n",
    "                        encoded.extend(encode_data(v, v_key, sep=sep).items())\n",
    "                else:\n",
    "                    encoded.append((new_key, val))\n",
    "            else:\n",
    "                encoded.append((new_key, []))\n",
    "        else:\n",
    "            encoded.append((new_key, val))\n",
    "    return dict(encoded)"
   ]
  },
  {
   "cell_type": "code",
   "execution_count": 42,
   "id": "1e18f99b-84fc-4651-8497-4465b0b590d9",
   "metadata": {
    "jupyter": {
     "source_hidden": true
    }
   },
   "outputs": [],
   "source": [
    "def encode_fix_stats(data, fixture_id):\n",
    "    encoded = []\n",
    "    encoded.append(('fixture_id', fixture_id))\n",
    "    for key, val in data.items():\n",
    "        if key =='team':\n",
    "            encoded.append((key+'_id', val['id']))\n",
    "        else:\n",
    "            for el in val:\n",
    "                encoded.append((el['type'].lower().replace(' ', '_').replace('%', 'percentage'), el['value']))\n",
    "    return dict(encoded)"
   ]
  },
  {
   "cell_type": "code",
   "execution_count": 43,
   "id": "8c2906b9-f8b7-4ed3-9588-a9679edb8ffd",
   "metadata": {
    "jupyter": {
     "source_hidden": true
    }
   },
   "outputs": [],
   "source": [
    "def data_to_sql(table_name, df, db_params, conflict_columns, update_columns):\n",
    "    conn = None\n",
    "    cur = None\n",
    "    try:\n",
    "        # Establish the connection\n",
    "        conn = psycopg2.connect(**db_params)\n",
    "        cur = conn.cursor()\n",
    "        \n",
    "        #insert data into tables\n",
    "        if len(conflict_columns) == 0:\n",
    "            insert_query = \"\"\"\n",
    "                INSERT INTO {} ({})\n",
    "                VALUES ({})\n",
    "            \"\"\".format(table_name, ','.join(df.columns), ','.join(['%s']*len(df.columns)))\n",
    "        else:\n",
    "            if update_columns:\n",
    "                update_set = ', '.join([f\"{col} = EXCLUDED.{col}\" for col in update_columns])\n",
    "                insert_query = \"\"\"\n",
    "                    INSERT INTO {} ({})\n",
    "                    VALUES ({})\n",
    "                    ON CONFLICT ({}) DO UPDATE SET {}\n",
    "                \"\"\".format(table_name, ','.join(df.columns), ','.join(['%s']*len(df.columns)), ','.join(conflict_columns), update_set)\n",
    "            else:\n",
    "                insert_query = \"\"\"\n",
    "                    INSERT INTO {} ({})\n",
    "                    VALUES ({})\n",
    "                    ON CONFLICT ({}) DO NOTHING\n",
    "                \"\"\".format(table_name, ','.join(df.columns), ','.join(['%s']*len(df.columns)), ','.join(conflict_columns))\n",
    "\n",
    "        # Execute insert query for each row\n",
    "        for row in df.itertuples(index=False, name=None):\n",
    "            cur.execute(insert_query, row)\n",
    "        \n",
    "        # Commit the transaction\n",
    "        conn.commit()       \n",
    "    except Exception as e:\n",
    "        print(f\"Error: {e}\")\n",
    "        if conn:\n",
    "            conn.rollback()\n",
    "\n",
    "    finally:\n",
    "        if conn is not None:\n",
    "            # Close the cursor and connection\n",
    "            cur.close()\n",
    "        if cur is not None:\n",
    "            conn.close()"
   ]
  },
  {
   "cell_type": "code",
   "execution_count": 44,
   "id": "ba3c5f2f-c848-4c0a-aad2-78b095f0c3b9",
   "metadata": {
    "jupyter": {
     "source_hidden": true
    }
   },
   "outputs": [],
   "source": [
    "def get_last_date(db_params, today):\n",
    "    get_data_query = '''\n",
    "    SELECT fixture_id\n",
    "    FROM fixtures \n",
    "    WHERE fixture_status_short != 'FT' and fixture_status_short != 'WO' and fixture_status_short != 'AET' and fixture_status_short != 'PEN' and fixture_status_short != 'CANC' and fixture_date < today\n",
    "    '''\n",
    "    res = []\n",
    "    conn = None\n",
    "    cur = None\n",
    "    try:\n",
    "        # Establish the connection\n",
    "        conn = psycopg2.connect(**db_params)\n",
    "        cur = conn.cursor()\n",
    "        \n",
    "        cur.execute(get_data_query)\n",
    "        \n",
    "        res = [row[0] for row in cur.fetchall()]\n",
    "    except Exception as e:\n",
    "        print(f\"Error: {e}\")\n",
    "        if last_row is not None:\n",
    "            print(f\"Last row loaded before the error occurred: {last_row}\")\n",
    "    finally:\n",
    "        if conn is not None:\n",
    "            # Close the cursor and connection\n",
    "            cur.close()\n",
    "        if cur is not None:\n",
    "            conn.close()\n",
    "        return res"
   ]
  },
  {
   "cell_type": "code",
   "execution_count": 45,
   "id": "739d08bb-dc68-4f2b-8300-3d2d7608b590",
   "metadata": {
    "jupyter": {
     "source_hidden": true
    }
   },
   "outputs": [],
   "source": [
    "def get_teams(teams, df):\n",
    "    for row in df:\n",
    "        to_add_1 = {'league': row['league']['id'], 'season': row['league']['season'], 'team': row['teams']['home']['id']}\n",
    "        to_add_2 = {'league': row['league']['id'], 'season': row['league']['season'], 'team': row['teams']['away']['id']}\n",
    "        teams.extend([to_add_1, to_add_2])\n",
    "    return teams"
   ]
  },
  {
   "cell_type": "markdown",
   "id": "fa9b9e82-495c-440a-bb3c-35b1ad0a44c9",
   "metadata": {
    "jp-MarkdownHeadingCollapsed": true
   },
   "source": [
    "##### Get fixtures and their stats played during collecting historical data"
   ]
  },
  {
   "cell_type": "code",
   "execution_count": null,
   "id": "d0248ccd-b443-4d2e-b5bf-a7d051026ea9",
   "metadata": {},
   "outputs": [],
   "source": [
    "import pandas as pd\n",
    "from datetime import date\n",
    "\n",
    "remaining = 100\n",
    "fixtures_data = []\n",
    "fixture_stats_data = []\n",
    "teams_to_update = []\n",
    "s3 = boto3.client('s3')\n",
    "\n",
    "bucket_name = 'sport-storage'\n",
    "matches_key = 'total_fixs.json'\n",
    "teams_to_u = 'teams_to_update.csv'\n",
    "\n",
    "matches_response = s3.get_object(Bucket = bucket_name, Key = matches_key)\n",
    "teams_to_upd = s3.get_object(Bucket = bucket_name, Key = teams_to_upd)\n",
    "total_fixs = pickle.loads(matches_response['Body'].read())\n",
    "teams_update = pd.read_csv(io.BytesIO(missed['Body'].read()))\n",
    "\n",
    "if len(total_fixs) == 0:\n",
    "    today = date.today()\n",
    "    fixtures_to_find = get_last_date(db_params, today)\n",
    "    total_fixs = fixtures_to_find\n",
    "else:\n",
    "    fixtures_to_find = total_fixs\n",
    "    \n",
    "while (remaining > 0) & (len(fixtures_to_find) > 0):\n",
    "    \n",
    "    ids = ''\n",
    "    sep = '-'\n",
    "    # get fixtures ids to find\n",
    "    if len(fixtures_to_find) > 20:\n",
    "        for i in range(0,20):\n",
    "            ids = f'{ids}{sep}{fixtures_to_find[i]}' if ids else fixtures_to_find[i]\n",
    "        fixtures_to_find = fixtures_to_find[20:]\n",
    "    \n",
    "    elif len(fixtures_to_find) > 0:\n",
    "        for i in fixtures_to_find:\n",
    "            ids = f'{ids}{sep}{i}' if ids else i\n",
    "        fixtures_to_find = []\n",
    "    \n",
    "    #get fixtures\n",
    "    if ids:      \n",
    "        params = {'ids': ids}\n",
    "        \n",
    "        df, remaining = get_data('fixtures', params)\n",
    "        if len(df['response']) > 0:\n",
    "            fixtures_data.extend(encode_data(row) for row in df['response'])\n",
    "            teams_to_update = get_teams(teams_to_update, df['response']))\n",
    "        \n",
    "while (remaining > 0) & (len(total_fixs) > 0):\n",
    "\n",
    "    params = {'fixture': total_fixs[0]}\n",
    "    df, remaining = get_data('fixtures/statistics', params)\n",
    "    fixture_stats_data.extend(encode_fix_stats(df['response'], total_fixs[0]))\n",
    "    total_fixs.pop(0)\n",
    "\n",
    "if len(fixtures_data) > 0:\n",
    "    fixtures_df = pd.DataFrame(fixtures_data)\n",
    "    fixtures_df = fixtures_df.drop(columns = {\n",
    "        'league_name',\n",
    "        'league_country',\n",
    "        'league_logo',\n",
    "        'league_flag',\n",
    "        'fixture_venue_city',\n",
    "        'fixture_venue_name',\n",
    "        'teams_away_logo',\n",
    "        'teams_away_name',\n",
    "        'teams_home_logo',\n",
    "        'teams_home_name'})\n",
    "    conflict_col = ['fixture_id']\n",
    "    update_col = list(fixtures_df.columns)\n",
    "    data_to_sql('fixtures', fixtures_df, db_params, conflict_col, update_col)\n",
    "    \n",
    "if len(fixture_stats_data) > 0:\n",
    "    fixture_stats_df = pd.DataFrame(fixture_stats_data)\n",
    "    conflict_col = ['fixture_id', 'team_id']\n",
    "    update_col = list(fixture_stats_df.columns)\n",
    "    data_to_sql('fixture_statistics', fixture_stats_df, db_params, conflict_col, update_col)\n",
    "\n",
    "teams_update_df = pd.DataFrame(teams_to_update).drop_duplicates()\n",
    "teams_update = pd.concat(teams_update_df, teams_update)\n",
    "\n",
    "csv_buffer = io.StringIO()\n",
    "teams_update.to_csv(csv_buffer, index=False)\n",
    "s3.put_object(Bucket = bucket_name, Key = object_key1, Body=csv_buffer.getvalue().encode())\n",
    "\n",
    "json_data = json.dump(total_fixs)\n",
    "s3.put_object(Bucket = bucket_name, Key = teams_to_upd, Body=json_data)\n",
    "\n",
    "if len(total_fixs) == 0:\n",
    "    print('fixture data is actual')\n",
    "## update team stats and fixs stats \n",
    "## get fixs to update from list total_fix"
   ]
  },
  {
   "cell_type": "markdown",
   "id": "34adbb47-8cbf-40ad-87f7-482ca26a35d3",
   "metadata": {},
   "source": [
    "##### Get team stats before starting predicting"
   ]
  },
  {
   "cell_type": "code",
   "execution_count": null,
   "id": "5fd830db-7a77-45b8-b8f5-4e03a8af8daa",
   "metadata": {},
   "outputs": [],
   "source": [
    "import pandas as pd\n",
    "from datetime import date\n",
    "\n",
    "remaining = 100\n",
    "total_team_stats_data = []\n",
    "s3 = boto3.client('s3')\n",
    "\n",
    "bucket_name = 'sport-storage'\n",
    "teams_to_u = 'teams_to_update.csv'\n",
    "\n",
    "teams_to_upd = s3.get_object(Bucket = bucket_name, Key = teams_to_upd)\n",
    "teams_update = pd.read_csv(io.BytesIO(missed['Body'].read()))\n",
    "\n",
    "to_find == 'teams/statistics'\n",
    "\n",
    "if len(teams_update)>0:\n",
    "    done = False\n",
    "else:\n",
    "    done = True\n",
    "    \n",
    "while (done==False)&(remaining > 0):\n",
    "    team = team_update.loc[0]\n",
    "    params = {'league': team['league'],\n",
    "              'season': team['season'],\n",
    "              'team': team['team']\n",
    "             }\n",
    "    endpoint = to_find\n",
    "    data, remaining_req = get_data(endpoint, params)\n",
    "    total_team_stats_data.append(encode_data(data['response']))\n",
    "        \n",
    "        # drop team that data was already collected for\n",
    "    if len(teams_update) > 0:\n",
    "        team_update = team_update.loc[1:]\n",
    "\n",
    "        # if data for all seasons were collected quit loop\n",
    "    else:\n",
    "        done = True\n",
    "                    \n",
    "    remaining = int(remaining_req)\n",
    "    print(remaining)\n",
    "    # sleep cause there can be done only 10 requests per minute\n",
    "    time.sleep(7)\n",
    "db_params = {\n",
    "    'host': 'localhost',\n",
    "    'database': 'preds',\n",
    "    'user': 'postgres',\n",
    "    'password': 'pass',\n",
    "    'port': '5432'\n",
    "}\n",
    "if len(total_team_stats_data) > 0:\n",
    "    team_stats_df = pd.DataFrame(total_team_stats_data)\n",
    "    team_stats_df = team_stats_df.drop(columns = {\n",
    "        'league_name', \n",
    "        'league_country', \n",
    "        'league_logo', \n",
    "        'league_flag', \n",
    "        'team_name', \n",
    "        'team_logo',\n",
    "        'lineups'})\n",
    "    team_stats_df = team_stats_df.fillna(0)\n",
    "    conflict_col = ['league_id', 'team_id']\n",
    "    update_col = list(team_stats_df.columns)\n",
    "    team_stats_df.columns = team_stats_df.columns.str.replace('-','_')\n",
    "    data_to_sql('team_stats', team_stats_df, db_params, conflict_col, update_col)\n",
    "    \n",
    "csv_buffer = io.StringIO()\n",
    "teams_update.to_csv(csv_buffer, index=False)\n",
    "s3.put_object(Bucket = bucket_name, Key = object_key1, Body=csv_buffer.getvalue().encode())"
   ]
  },
  {
   "cell_type": "code",
   "execution_count": null,
   "id": "28281429-7bf4-4db1-bd57-5649296be28d",
   "metadata": {},
   "outputs": [],
   "source": [
    "''' \n",
    "1. get all historical data,\n",
    "2. then find last results date and if season is current get missing results, team stats,\n",
    "\n",
    "7 days matches\n",
    "\n",
    "3. start collecting data about upcoming matches in next 7 days,\n",
    "4. create predictions model,\n",
    "5. create table for predictions and actual results,\n",
    "6. after that 7 days get real result and save them in fixtures and preds table,\n",
    "7. decide whats better add results to team stats table or collect latest data about team stats (??),\n",
    "8. use preds and real results for models' training,\n",
    "9. create flask app to display preds,\n",
    "10. get upcoming fixtures odds and compare them to preds,\n",
    "11. filter odds worth betting,\n",
    "12. display that bets on flask api\n",
    "13. display statistics for that bets,\n",
    "'''\n"
   ]
  }
 ],
 "metadata": {
  "kernelspec": {
   "display_name": "Python 3 (ipykernel)",
   "language": "python",
   "name": "python3"
  },
  "language_info": {
   "codemirror_mode": {
    "name": "ipython",
    "version": 3
   },
   "file_extension": ".py",
   "mimetype": "text/x-python",
   "name": "python",
   "nbconvert_exporter": "python",
   "pygments_lexer": "ipython3",
   "version": "3.12.4"
  }
 },
 "nbformat": 4,
 "nbformat_minor": 5
}
