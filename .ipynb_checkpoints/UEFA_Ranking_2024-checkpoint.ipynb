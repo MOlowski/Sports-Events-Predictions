{
 "cells": [
  {
   "cell_type": "code",
   "execution_count": 5,
   "id": "dd26a780-6931-478b-9ddd-f085c2027239",
   "metadata": {},
   "outputs": [
    {
     "name": "stdout",
     "output_type": "stream",
     "text": [
      "Requirement already satisfied: beautifulsoup4 in c:\\users\\olows\\documents\\sports-events-prediction\\sports-events-predictions\\venv\\lib\\site-packages (4.12.3)\n",
      "Requirement already satisfied: soupsieve>1.2 in c:\\users\\olows\\documents\\sports-events-prediction\\sports-events-predictions\\venv\\lib\\site-packages (from beautifulsoup4) (2.5)\n",
      "Note: you may need to restart the kernel to use updated packages.\n"
     ]
    }
   ],
   "source": [
    "pip install beautifulsoup4"
   ]
  },
  {
   "cell_type": "code",
   "execution_count": 7,
   "id": "cf19446c-f56f-4156-80d7-9a58263541d7",
   "metadata": {},
   "outputs": [
    {
     "name": "stdout",
     "output_type": "stream",
     "text": [
      "Soup\n"
     ]
    }
   ],
   "source": [
    "from bs4 import BeautifulSoup\n",
    "import pandas as pd\n",
    "import requests\n",
    "\n",
    "url = \"https://kassiesa.net/uefa/data/method5/crank2024.html\"\n",
    "\n",
    "response = requests.get(url)\n",
    "\n",
    "if response.status_code == 200:\n",
    "    soup = BeautifulSoup(response.text, \"html.parser\")\n",
    "    print(\"Soup\")\n",
    "else:\n",
    "    print(f\"Error {response.status_code}\")"
   ]
  },
  {
   "cell_type": "code",
   "execution_count": 12,
   "id": "1e5d217e-f001-4285-a61d-030bea3eda92",
   "metadata": {},
   "outputs": [],
   "source": [
    "# Ranking table\n",
    "table = soup.find(\"table\", class_=\"t1\")\n",
    "\n",
    "rows = table.find_all(\"tr\")\n",
    "                      \n",
    "column_names_row = rows[0]\n",
    "column_names = [col.text.strip() for col in column_names_row.find_all(\"th\")]\n",
    "\n",
    "data = []\n",
    "for row in rows[1:]:\n",
    "    row_el = row.find_all(\"td\")\n",
    "    row_data = [el.text.strip() for el in row_el]\n",
    "    data.append(row_data)\n",
    "\n",
    "UEFA_Ranking_2024 = pd.DataFrame(data, columns = column_names)"
   ]
  },
  {
   "cell_type": "code",
   "execution_count": 13,
   "id": "a23c0107-bca2-46b7-94aa-0a6a14ec097d",
   "metadata": {},
   "outputs": [
    {
     "data": {
      "text/html": [
       "<div>\n",
       "<style scoped>\n",
       "    .dataframe tbody tr th:only-of-type {\n",
       "        vertical-align: middle;\n",
       "    }\n",
       "\n",
       "    .dataframe tbody tr th {\n",
       "        vertical-align: top;\n",
       "    }\n",
       "\n",
       "    .dataframe thead th {\n",
       "        text-align: right;\n",
       "    }\n",
       "</style>\n",
       "<table border=\"1\" class=\"dataframe\">\n",
       "  <thead>\n",
       "    <tr style=\"text-align: right;\">\n",
       "      <th></th>\n",
       "      <th>country</th>\n",
       "      <th>position</th>\n",
       "    </tr>\n",
       "  </thead>\n",
       "  <tbody>\n",
       "    <tr>\n",
       "      <th>0</th>\n",
       "      <td>England</td>\n",
       "      <td>1</td>\n",
       "    </tr>\n",
       "    <tr>\n",
       "      <th>1</th>\n",
       "      <td>Italy</td>\n",
       "      <td>2</td>\n",
       "    </tr>\n",
       "    <tr>\n",
       "      <th>2</th>\n",
       "      <td>Spain</td>\n",
       "      <td>3</td>\n",
       "    </tr>\n",
       "    <tr>\n",
       "      <th>3</th>\n",
       "      <td>Germany</td>\n",
       "      <td>4</td>\n",
       "    </tr>\n",
       "    <tr>\n",
       "      <th>4</th>\n",
       "      <td>France</td>\n",
       "      <td>5</td>\n",
       "    </tr>\n",
       "  </tbody>\n",
       "</table>\n",
       "</div>"
      ],
      "text/plain": [
       "   country position\n",
       "0  England        1\n",
       "1    Italy        2\n",
       "2    Spain        3\n",
       "3  Germany        4\n",
       "4   France        5"
      ]
     },
     "execution_count": 13,
     "metadata": {},
     "output_type": "execute_result"
    }
   ],
   "source": [
    "UEFA_Ranking_2024.rename(columns={'#':'position'}, inplace=True)\n",
    "UEFA_Ranking_2024 = UEFA_Ranking_2024[['country', 'position']]\n",
    "UEFA_Ranking_2024.head()"
   ]
  },
  {
   "cell_type": "code",
   "execution_count": 14,
   "id": "8d3542b3-bdf0-46b4-b46b-e481dd1ed3f9",
   "metadata": {},
   "outputs": [],
   "source": [
    "UEFA_Ranking_2024.to_csv(\"UEFA_Ranking_2024.csv\", index=False)"
   ]
  }
 ],
 "metadata": {
  "kernelspec": {
   "display_name": "Python 3 (ipykernel)",
   "language": "python",
   "name": "python3"
  },
  "language_info": {
   "codemirror_mode": {
    "name": "ipython",
    "version": 3
   },
   "file_extension": ".py",
   "mimetype": "text/x-python",
   "name": "python",
   "nbconvert_exporter": "python",
   "pygments_lexer": "ipython3",
   "version": "3.12.3"
  }
 },
 "nbformat": 4,
 "nbformat_minor": 5
}
