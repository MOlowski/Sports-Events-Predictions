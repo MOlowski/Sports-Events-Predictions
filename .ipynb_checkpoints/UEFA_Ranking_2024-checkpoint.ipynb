{
 "cells": [
  {
   "cell_type": "code",
   "execution_count": 1,
   "id": "cf19446c-f56f-4156-80d7-9a58263541d7",
   "metadata": {},
   "outputs": [
    {
     "name": "stdout",
     "output_type": "stream",
     "text": [
      "Soup\n"
     ]
    }
   ],
   "source": [
    "from bs4 import BeautifulSoup\n",
    "import pandas as pd\n",
    "import requests\n",
    "\n",
    "url = \"https://kassiesa.net/uefa/data/method5/crank2024.html\"\n",
    "\n",
    "response = requests.get(url)\n",
    "\n",
    "if response.status_code == 200:\n",
    "    soup = BeautifulSoup(response.text, \"html.parser\")\n",
    "    print(\"Soup\")\n",
    "else:\n",
    "    print(f\"Error {response.status_code}\")"
   ]
  },
  {
   "cell_type": "code",
   "execution_count": 2,
   "id": "1e5d217e-f001-4285-a61d-030bea3eda92",
   "metadata": {},
   "outputs": [],
   "source": [
    "# Ranking table\n",
    "table = soup.find(\"table\", class_=\"t1\")\n",
    "\n",
    "rows = table.find_all(\"tr\")\n",
    "                      \n",
    "column_names_row = rows[0]\n",
    "column_names = [col.text.strip() for col in column_names_row.find_all(\"th\")]\n",
    "\n",
    "data = []\n",
    "for row in rows[1:]:\n",
    "    row_el = row.find_all(\"td\")\n",
    "    row_data = [el.text.strip() for el in row_el]\n",
    "    data.append(row_data)\n",
    "\n",
    "UEFA_Ranking_2024 = pd.DataFrame(data, columns = column_names)"
   ]
  },
  {
   "cell_type": "code",
   "execution_count": 3,
   "id": "a23c0107-bca2-46b7-94aa-0a6a14ec097d",
   "metadata": {},
   "outputs": [
    {
     "data": {
      "text/html": [
       "<div>\n",
       "<style scoped>\n",
       "    .dataframe tbody tr th:only-of-type {\n",
       "        vertical-align: middle;\n",
       "    }\n",
       "\n",
       "    .dataframe tbody tr th {\n",
       "        vertical-align: top;\n",
       "    }\n",
       "\n",
       "    .dataframe thead th {\n",
       "        text-align: right;\n",
       "    }\n",
       "</style>\n",
       "<table border=\"1\" class=\"dataframe\">\n",
       "  <thead>\n",
       "    <tr style=\"text-align: right;\">\n",
       "      <th></th>\n",
       "      <th>country</th>\n",
       "      <th>position</th>\n",
       "    </tr>\n",
       "  </thead>\n",
       "  <tbody>\n",
       "    <tr>\n",
       "      <th>0</th>\n",
       "      <td>England</td>\n",
       "      <td>1</td>\n",
       "    </tr>\n",
       "    <tr>\n",
       "      <th>1</th>\n",
       "      <td>Italy</td>\n",
       "      <td>2</td>\n",
       "    </tr>\n",
       "    <tr>\n",
       "      <th>2</th>\n",
       "      <td>Spain</td>\n",
       "      <td>3</td>\n",
       "    </tr>\n",
       "    <tr>\n",
       "      <th>3</th>\n",
       "      <td>Germany</td>\n",
       "      <td>4</td>\n",
       "    </tr>\n",
       "    <tr>\n",
       "      <th>4</th>\n",
       "      <td>France</td>\n",
       "      <td>5</td>\n",
       "    </tr>\n",
       "  </tbody>\n",
       "</table>\n",
       "</div>"
      ],
      "text/plain": [
       "   country position\n",
       "0  England        1\n",
       "1    Italy        2\n",
       "2    Spain        3\n",
       "3  Germany        4\n",
       "4   France        5"
      ]
     },
     "execution_count": 3,
     "metadata": {},
     "output_type": "execute_result"
    }
   ],
   "source": [
    "UEFA_Ranking_2024.rename(columns={'#':'position'}, inplace=True)\n",
    "UEFA_Ranking_2024 = UEFA_Ranking_2024[['country', 'position']]\n",
    "UEFA_Ranking_2024.head()"
   ]
  },
  {
   "cell_type": "code",
   "execution_count": 4,
   "id": "8d3542b3-bdf0-46b4-b46b-e481dd1ed3f9",
   "metadata": {},
   "outputs": [],
   "source": [
    "UEFA_Ranking_2024.to_csv(\"UEFA_Ranking_2024.csv\", index=False)"
   ]
  },
  {
   "cell_type": "code",
   "execution_count": 7,
   "id": "c40df666-80b1-4766-86cc-7d24c0c24eae",
   "metadata": {},
   "outputs": [],
   "source": [
    "seasons = pd.read_csv('data/seasons.csv')\n",
    "contests = pd.read_csv('data/contests.csv')"
   ]
  },
  {
   "cell_type": "code",
   "execution_count": 8,
   "id": "8d8ec6b8-827c-41a2-af43-d3d32c5b0b11",
   "metadata": {},
   "outputs": [
    {
     "data": {
      "text/html": [
       "<div>\n",
       "<style scoped>\n",
       "    .dataframe tbody tr th:only-of-type {\n",
       "        vertical-align: middle;\n",
       "    }\n",
       "\n",
       "    .dataframe tbody tr th {\n",
       "        vertical-align: top;\n",
       "    }\n",
       "\n",
       "    .dataframe thead th {\n",
       "        text-align: right;\n",
       "    }\n",
       "</style>\n",
       "<table border=\"1\" class=\"dataframe\">\n",
       "  <thead>\n",
       "    <tr style=\"text-align: right;\">\n",
       "      <th></th>\n",
       "      <th>Unnamed: 0</th>\n",
       "      <th>league_id</th>\n",
       "      <th>name</th>\n",
       "      <th>type</th>\n",
       "      <th>logo</th>\n",
       "      <th>country</th>\n",
       "      <th>country_code</th>\n",
       "      <th>seasons</th>\n",
       "    </tr>\n",
       "  </thead>\n",
       "  <tbody>\n",
       "    <tr>\n",
       "      <th>0</th>\n",
       "      <td>0</td>\n",
       "      <td>4</td>\n",
       "      <td>Euro Championship</td>\n",
       "      <td>Cup</td>\n",
       "      <td>https://media.api-sports.io/football/leagues/4...</td>\n",
       "      <td>World</td>\n",
       "      <td>NaN</td>\n",
       "      <td>5</td>\n",
       "    </tr>\n",
       "    <tr>\n",
       "      <th>1</th>\n",
       "      <td>1</td>\n",
       "      <td>21</td>\n",
       "      <td>Confederations Cup</td>\n",
       "      <td>Cup</td>\n",
       "      <td>https://media.api-sports.io/football/leagues/2...</td>\n",
       "      <td>World</td>\n",
       "      <td>NaN</td>\n",
       "      <td>3</td>\n",
       "    </tr>\n",
       "    <tr>\n",
       "      <th>2</th>\n",
       "      <td>2</td>\n",
       "      <td>61</td>\n",
       "      <td>Ligue 1</td>\n",
       "      <td>League</td>\n",
       "      <td>https://media.api-sports.io/football/leagues/6...</td>\n",
       "      <td>France</td>\n",
       "      <td>FR</td>\n",
       "      <td>15</td>\n",
       "    </tr>\n",
       "    <tr>\n",
       "      <th>3</th>\n",
       "      <td>3</td>\n",
       "      <td>144</td>\n",
       "      <td>Jupiler Pro League</td>\n",
       "      <td>League</td>\n",
       "      <td>https://media.api-sports.io/football/leagues/1...</td>\n",
       "      <td>Belgium</td>\n",
       "      <td>BE</td>\n",
       "      <td>15</td>\n",
       "    </tr>\n",
       "    <tr>\n",
       "      <th>4</th>\n",
       "      <td>4</td>\n",
       "      <td>71</td>\n",
       "      <td>Serie A</td>\n",
       "      <td>League</td>\n",
       "      <td>https://media.api-sports.io/football/leagues/7...</td>\n",
       "      <td>Brazil</td>\n",
       "      <td>BR</td>\n",
       "      <td>15</td>\n",
       "    </tr>\n",
       "  </tbody>\n",
       "</table>\n",
       "</div>"
      ],
      "text/plain": [
       "   Unnamed: 0  league_id                name    type  \\\n",
       "0           0          4   Euro Championship     Cup   \n",
       "1           1         21  Confederations Cup     Cup   \n",
       "2           2         61             Ligue 1  League   \n",
       "3           3        144  Jupiler Pro League  League   \n",
       "4           4         71             Serie A  League   \n",
       "\n",
       "                                                logo  country country_code  \\\n",
       "0  https://media.api-sports.io/football/leagues/4...    World          NaN   \n",
       "1  https://media.api-sports.io/football/leagues/2...    World          NaN   \n",
       "2  https://media.api-sports.io/football/leagues/6...   France           FR   \n",
       "3  https://media.api-sports.io/football/leagues/1...  Belgium           BE   \n",
       "4  https://media.api-sports.io/football/leagues/7...   Brazil           BR   \n",
       "\n",
       "   seasons  \n",
       "0        5  \n",
       "1        3  \n",
       "2       15  \n",
       "3       15  \n",
       "4       15  "
      ]
     },
     "execution_count": 8,
     "metadata": {},
     "output_type": "execute_result"
    }
   ],
   "source": [
    "contests.head()"
   ]
  },
  {
   "cell_type": "code",
   "execution_count": 11,
   "id": "0098f1fc-7b00-4494-a21b-e67243fcd24d",
   "metadata": {},
   "outputs": [],
   "source": [
    "uefa = UEFA_Ranking_2024\n",
    "eur_cs = list(uefa['country'].unique())\n",
    "contests = contests[contests['country'].isin(eur_cs)]"
   ]
  },
  {
   "cell_type": "code",
   "execution_count": 21,
   "id": "b4795eae-14aa-4fb6-ae80-1e73bac0ecd8",
   "metadata": {},
   "outputs": [],
   "source": [
    "eur_ss = list(contests['league_id'].unique())\n",
    "eur_seasons = seasons[seasons['league_id'].isin(eur_ss)]\n",
    "eur_seasons.to_csv('european_seasons.csv')"
   ]
  },
  {
   "cell_type": "code",
   "execution_count": null,
   "id": "4c09b4da-adef-45a2-9080-f1be0bc7bb9a",
   "metadata": {},
   "outputs": [],
   "source": []
  }
 ],
 "metadata": {
  "kernelspec": {
   "display_name": "Python 3 (ipykernel)",
   "language": "python",
   "name": "python3"
  },
  "language_info": {
   "codemirror_mode": {
    "name": "ipython",
    "version": 3
   },
   "file_extension": ".py",
   "mimetype": "text/x-python",
   "name": "python",
   "nbconvert_exporter": "python",
   "pygments_lexer": "ipython3",
   "version": "3.12.4"
  }
 },
 "nbformat": 4,
 "nbformat_minor": 5
}
