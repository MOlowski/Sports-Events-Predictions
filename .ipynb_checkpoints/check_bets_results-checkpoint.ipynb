{
 "cells": [
  {
   "cell_type": "code",
   "execution_count": 45,
   "id": "fc0c8b4c-6a57-46ca-b543-d218c49b2ce6",
   "metadata": {
    "jupyter": {
     "source_hidden": true
    }
   },
   "outputs": [],
   "source": [
    "def get_bets():\n",
    "    \n",
    "    conn = None\n",
    "    db_params = {\n",
    "        'host': 'localhost',\n",
    "        'database': 'preds',\n",
    "        'user': 'postgres',\n",
    "        'password': 'pass',\n",
    "        'port': '5432'\n",
    "    }\n",
    "    #get next friday and monday dates as start and end for query\n",
    "\n",
    "    try:\n",
    "        conn = psycopg2.connect(**db_params)\n",
    "\n",
    "        query = '''\n",
    "    SELECT br.*, b.bet_value \n",
    "    FROM bets_results br\n",
    "    JOIN bets b\n",
    "    ON br.bet_name = b.bet_name AND br.fixture_id = b.fixture_id\n",
    "    '''\n",
    "        current_matches = pd.read_sql_query(query, conn)\n",
    "        \n",
    "        return current_matches\n",
    "    except Exception as e:\n",
    "        print(f'Error {e}')\n",
    "        return None, None\n",
    "    finally:\n",
    "        if conn is not None:\n",
    "            conn.close()\n"
   ]
  },
  {
   "cell_type": "code",
   "execution_count": 54,
   "id": "b32df37b-8690-4ee7-b93c-a422b2e50114",
   "metadata": {},
   "outputs": [
    {
     "name": "stderr",
     "output_type": "stream",
     "text": [
      "C:\\Users\\olows\\AppData\\Local\\Temp\\ipykernel_16320\\2089369644.py:22: UserWarning: pandas only supports SQLAlchemy connectable (engine/connection) or database string URI or sqlite3 DBAPI2 connection. Other DBAPI2 objects are not tested. Please consider using SQLAlchemy.\n",
      "  current_matches = pd.read_sql_query(query, conn)\n"
     ]
    }
   ],
   "source": [
    "import pandas as pd\n",
    "import psycopg2\n",
    "\n",
    "df = get_bets()\n",
    "\n",
    "df1 = df.groupby('bet_number')['bet_value'].prod().reset_index()\n",
    "df1 = df1.rename(columns={'bet_value':'summed_val'})\n",
    "df2 = df.merge(df1, on='bet_number')"
   ]
  },
  {
   "cell_type": "code",
   "execution_count": 58,
   "id": "6c55f29b-2362-425b-85f5-e3fab90dce09",
   "metadata": {},
   "outputs": [],
   "source": [
    "df_won = df2[df2['bet_result']]\n",
    "won_bets = len(list(df_won['bet_number'].unique()))\n",
    "df_won = df_won.groupby('bet_number')['summed_val'].max().reset_index()\n",
    "\n",
    "df_lost = df2[~df2['bet_result']]\n",
    "\n",
    "lost = len(list(df_lost['bet_number'].unique()))*10\n",
    "df_won['won'] = df_won['summed_val']*10\n",
    "won = df_won['won'].sum()\n",
    "\n",
    "money_used = len(list(df['bet_number'].unique()))*10\n",
    "incomes = won - money_used"
   ]
  },
  {
   "cell_type": "code",
   "execution_count": 59,
   "id": "1d29be18-03b9-4747-a238-6275333a264b",
   "metadata": {},
   "outputs": [
    {
     "data": {
      "text/plain": [
       "290"
      ]
     },
     "execution_count": 59,
     "metadata": {},
     "output_type": "execute_result"
    }
   ],
   "source": [
    "lost"
   ]
  },
  {
   "cell_type": "code",
   "execution_count": 60,
   "id": "30b8dda3-7e4c-4686-bde1-b2a5783c6120",
   "metadata": {},
   "outputs": [
    {
     "data": {
      "text/plain": [
       "411.90000000000003"
      ]
     },
     "execution_count": 60,
     "metadata": {},
     "output_type": "execute_result"
    }
   ],
   "source": [
    "won"
   ]
  },
  {
   "cell_type": "code",
   "execution_count": 61,
   "id": "b59d56f4-0ea1-40d4-90c3-061055d158a0",
   "metadata": {},
   "outputs": [
    {
     "data": {
      "text/plain": [
       "1.900000000000034"
      ]
     },
     "execution_count": 61,
     "metadata": {},
     "output_type": "execute_result"
    }
   ],
   "source": [
    "incomes"
   ]
  },
  {
   "cell_type": "code",
   "execution_count": 62,
   "id": "5a5224d5-18ef-4e20-8478-f8a9ee8aeb9c",
   "metadata": {},
   "outputs": [
    {
     "data": {
      "text/plain": [
       "410"
      ]
     },
     "execution_count": 62,
     "metadata": {},
     "output_type": "execute_result"
    }
   ],
   "source": [
    "money_used"
   ]
  }
 ],
 "metadata": {
  "kernelspec": {
   "display_name": "Python 3 (ipykernel)",
   "language": "python",
   "name": "python3"
  },
  "language_info": {
   "codemirror_mode": {
    "name": "ipython",
    "version": 3
   },
   "file_extension": ".py",
   "mimetype": "text/x-python",
   "name": "python",
   "nbconvert_exporter": "python",
   "pygments_lexer": "ipython3",
   "version": "3.12.4"
  }
 },
 "nbformat": 4,
 "nbformat_minor": 5
}
