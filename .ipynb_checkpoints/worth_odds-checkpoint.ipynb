{
 "cells": [
  {
   "cell_type": "code",
   "execution_count": 40,
   "id": "2c5a3940-9286-4e12-917f-98d0cc523a62",
   "metadata": {},
   "outputs": [],
   "source": [
    "def get_odds_predictions(start, end):\n",
    "    conn = None\n",
    "    cur = None\n",
    "    params = {\n",
    "    'host': 'localhost',\n",
    "    'database': 'preds',\n",
    "    'user': 'postgres',\n",
    "    'password': 'pass',\n",
    "    'port': '5432'\n",
    "}\n",
    "    try:\n",
    "        # Establish the connection\n",
    "        conn = psycopg2.connect(**params)\n",
    "        cur = conn.cursor()\n",
    "\n",
    "        query = \"\"\"\n",
    "        SELECT a.*\n",
    "        FROM (\n",
    "            SELECT p.*, o.result_home, o.result_draw, o.result_away, \n",
    "            o.both_scores_true, o.both_scores_false, o.double_chance_home, \n",
    "            o.double_chance_away, o.fh_result_home, o.fh_result_draw, o.fh_result_away, \n",
    "            o.home_over_1, o.home_over_2, o.away_over_1, o.away_over_2\n",
    "            FROM odds o\n",
    "            LEFT JOIN predictions p ON p.fixture_id = o.fixture_id\n",
    "        ) a\n",
    "        LEFT JOIN fixtures f ON a.fixture_id = f.fixture_id\n",
    "        WHERE f.fixture_date >= %s and f.fixture_date <= %s\n",
    "        \"\"\"\n",
    "        df = pd.read_sql_query(query, conn, params=(start, end))\n",
    "        # Commit the changes\n",
    "        conn.commit()\n",
    "        return df\n",
    "    except Exception as e:\n",
    "        print(f\"Error: {e}\")\n",
    "        if conn is not None:\n",
    "            conn.rollback()\n",
    "    finally:\n",
    "        if conn is not None:\n",
    "            # Close the cursor and connection\n",
    "            cur.close()\n",
    "        if cur is not None:\n",
    "            conn.close()"
   ]
  },
  {
   "cell_type": "code",
   "execution_count": 41,
   "id": "c643e714-8862-4ac6-b36a-b5412b957b22",
   "metadata": {},
   "outputs": [
    {
     "name": "stderr",
     "output_type": "stream",
     "text": [
      "C:\\Users\\olows\\AppData\\Local\\Temp\\ipykernel_4788\\2388667060.py:29: UserWarning: pandas only supports SQLAlchemy connectable (engine/connection) or database string URI or sqlite3 DBAPI2 connection. Other DBAPI2 objects are not tested. Please consider using SQLAlchemy.\n",
      "  df = pd.read_sql_query(query, conn, params=(start, end))\n"
     ]
    }
   ],
   "source": [
    "from datetime import date, timedelta\n",
    "import psycopg2\n",
    "import pandas as pd\n",
    "\n",
    "start = date.today()\n",
    "while start.weekday()!=4:\n",
    "    start += timedelta(1)\n",
    "end = date.today()\n",
    "while end.weekday()!=0:\n",
    "    end += timedelta(1)\n",
    "\n",
    "df = get_odds_predictions(start,end)"
   ]
  },
  {
   "cell_type": "markdown",
   "id": "638c8d13-89fb-45de-9b85-73b92d101cd8",
   "metadata": {
    "jp-MarkdownHeadingCollapsed": true
   },
   "source": [
    "#### Inspect data"
   ]
  },
  {
   "cell_type": "code",
   "execution_count": 90,
   "id": "12ce8040-4d80-46f4-ad65-6818af33d2e5",
   "metadata": {},
   "outputs": [
    {
     "data": {
      "text/html": [
       "<div>\n",
       "<style scoped>\n",
       "    .dataframe tbody tr th:only-of-type {\n",
       "        vertical-align: middle;\n",
       "    }\n",
       "\n",
       "    .dataframe tbody tr th {\n",
       "        vertical-align: top;\n",
       "    }\n",
       "\n",
       "    .dataframe thead th {\n",
       "        text-align: right;\n",
       "    }\n",
       "</style>\n",
       "<table border=\"1\" class=\"dataframe\">\n",
       "  <thead>\n",
       "    <tr style=\"text-align: right;\">\n",
       "      <th></th>\n",
       "      <th>home_over_1_prob</th>\n",
       "      <th>home_over_1_pred</th>\n",
       "      <th>home_over_1</th>\n",
       "    </tr>\n",
       "  </thead>\n",
       "  <tbody>\n",
       "    <tr>\n",
       "      <th>0</th>\n",
       "      <td>0.117432</td>\n",
       "      <td>False</td>\n",
       "      <td>2.8</td>\n",
       "    </tr>\n",
       "  </tbody>\n",
       "</table>\n",
       "</div>"
      ],
      "text/plain": [
       "   home_over_1_prob  home_over_1_pred  home_over_1\n",
       "0          0.117432             False          2.8"
      ]
     },
     "execution_count": 90,
     "metadata": {},
     "output_type": "execute_result"
    }
   ],
   "source": [
    "df[['home_over_1_prob', 'home_over_1_pred', 'home_over_1']]"
   ]
  },
  {
   "cell_type": "code",
   "execution_count": 91,
   "id": "76be33b0-6b59-47b1-a8ae-6a07de9a0943",
   "metadata": {},
   "outputs": [
    {
     "data": {
      "text/html": [
       "<div>\n",
       "<style scoped>\n",
       "    .dataframe tbody tr th:only-of-type {\n",
       "        vertical-align: middle;\n",
       "    }\n",
       "\n",
       "    .dataframe tbody tr th {\n",
       "        vertical-align: top;\n",
       "    }\n",
       "\n",
       "    .dataframe thead th {\n",
       "        text-align: right;\n",
       "    }\n",
       "</style>\n",
       "<table border=\"1\" class=\"dataframe\">\n",
       "  <thead>\n",
       "    <tr style=\"text-align: right;\">\n",
       "      <th></th>\n",
       "      <th>home_over_2_prob</th>\n",
       "      <th>home_over_2_pred</th>\n",
       "      <th>home_over_2</th>\n",
       "    </tr>\n",
       "  </thead>\n",
       "  <tbody>\n",
       "    <tr>\n",
       "      <th>0</th>\n",
       "      <td>0.020667</td>\n",
       "      <td>False</td>\n",
       "      <td>7.5</td>\n",
       "    </tr>\n",
       "  </tbody>\n",
       "</table>\n",
       "</div>"
      ],
      "text/plain": [
       "   home_over_2_prob  home_over_2_pred  home_over_2\n",
       "0          0.020667             False          7.5"
      ]
     },
     "execution_count": 91,
     "metadata": {},
     "output_type": "execute_result"
    }
   ],
   "source": [
    "df[['home_over_2_prob', 'home_over_2_pred', 'home_over_2']]"
   ]
  },
  {
   "cell_type": "code",
   "execution_count": 92,
   "id": "0eaebd3a-8402-4c74-b13d-6ba9ddd25b03",
   "metadata": {},
   "outputs": [
    {
     "data": {
      "text/html": [
       "<div>\n",
       "<style scoped>\n",
       "    .dataframe tbody tr th:only-of-type {\n",
       "        vertical-align: middle;\n",
       "    }\n",
       "\n",
       "    .dataframe tbody tr th {\n",
       "        vertical-align: top;\n",
       "    }\n",
       "\n",
       "    .dataframe thead th {\n",
       "        text-align: right;\n",
       "    }\n",
       "</style>\n",
       "<table border=\"1\" class=\"dataframe\">\n",
       "  <thead>\n",
       "    <tr style=\"text-align: right;\">\n",
       "      <th></th>\n",
       "      <th>away_over_1_prob</th>\n",
       "      <th>away_over_1_pred</th>\n",
       "      <th>away_over_1</th>\n",
       "    </tr>\n",
       "  </thead>\n",
       "  <tbody>\n",
       "    <tr>\n",
       "      <th>0</th>\n",
       "      <td>0.777942</td>\n",
       "      <td>True</td>\n",
       "      <td>4.2</td>\n",
       "    </tr>\n",
       "  </tbody>\n",
       "</table>\n",
       "</div>"
      ],
      "text/plain": [
       "   away_over_1_prob  away_over_1_pred  away_over_1\n",
       "0          0.777942              True          4.2"
      ]
     },
     "execution_count": 92,
     "metadata": {},
     "output_type": "execute_result"
    }
   ],
   "source": [
    "df[['away_over_1_prob', 'away_over_1_pred', 'away_over_1']]"
   ]
  },
  {
   "cell_type": "code",
   "execution_count": 93,
   "id": "e5bd8b9e-0109-48c0-b6a6-889d684ec4b4",
   "metadata": {},
   "outputs": [
    {
     "data": {
      "text/html": [
       "<div>\n",
       "<style scoped>\n",
       "    .dataframe tbody tr th:only-of-type {\n",
       "        vertical-align: middle;\n",
       "    }\n",
       "\n",
       "    .dataframe tbody tr th {\n",
       "        vertical-align: top;\n",
       "    }\n",
       "\n",
       "    .dataframe thead th {\n",
       "        text-align: right;\n",
       "    }\n",
       "</style>\n",
       "<table border=\"1\" class=\"dataframe\">\n",
       "  <thead>\n",
       "    <tr style=\"text-align: right;\">\n",
       "      <th></th>\n",
       "      <th>away_over_2_prob</th>\n",
       "      <th>away_over_2_pred</th>\n",
       "      <th>away_over_2</th>\n",
       "    </tr>\n",
       "  </thead>\n",
       "  <tbody>\n",
       "    <tr>\n",
       "      <th>0</th>\n",
       "      <td>0.42371</td>\n",
       "      <td>False</td>\n",
       "      <td>1.39</td>\n",
       "    </tr>\n",
       "  </tbody>\n",
       "</table>\n",
       "</div>"
      ],
      "text/plain": [
       "   away_over_2_prob  away_over_2_pred  away_over_2\n",
       "0           0.42371             False         1.39"
      ]
     },
     "execution_count": 93,
     "metadata": {},
     "output_type": "execute_result"
    }
   ],
   "source": [
    "df[['away_over_2_prob', 'away_over_2_pred', 'away_over_2']]"
   ]
  },
  {
   "cell_type": "code",
   "execution_count": 94,
   "id": "354d1852-52bb-423a-9dcb-7f8d6e6775c4",
   "metadata": {},
   "outputs": [
    {
     "data": {
      "text/plain": [
       "Index(['fixture_id', 'teams_home_id', 'teams_away_id', 'home_over_1_prob',\n",
       "       'home_over_2_prob', 'away_over_1_prob', 'away_over_2_prob',\n",
       "       'both_scores_prob', 'home_over_1_pred', 'home_over_2_pred',\n",
       "       'away_over_1_pred', 'away_over_2_pred', 'both_scores_pred',\n",
       "       'result_pred', 'result_first_half_pred',\n",
       "       'result_double_chance_home_pred', 'result_double_chance_away_pred',\n",
       "       'result_prob', 'result_first_half_prob',\n",
       "       'result_double_chance_home_prob', 'result_double_chance_away_prob',\n",
       "       'result_home', 'result_draw', 'result_away', 'both_scores_true',\n",
       "       'both_scores_false', 'double_chance_home', 'double_chance_away',\n",
       "       'fh_result_home', 'fh_result_draw', 'fh_result_away', 'home_over_1',\n",
       "       'home_over_2', 'away_over_1', 'away_over_2'],\n",
       "      dtype='object')"
      ]
     },
     "execution_count": 94,
     "metadata": {},
     "output_type": "execute_result"
    }
   ],
   "source": [
    "df.columns"
   ]
  },
  {
   "cell_type": "code",
   "execution_count": 95,
   "id": "843746fd-28a4-42a3-b573-ce902f07a8cd",
   "metadata": {},
   "outputs": [
    {
     "data": {
      "text/html": [
       "<div>\n",
       "<style scoped>\n",
       "    .dataframe tbody tr th:only-of-type {\n",
       "        vertical-align: middle;\n",
       "    }\n",
       "\n",
       "    .dataframe tbody tr th {\n",
       "        vertical-align: top;\n",
       "    }\n",
       "\n",
       "    .dataframe thead th {\n",
       "        text-align: right;\n",
       "    }\n",
       "</style>\n",
       "<table border=\"1\" class=\"dataframe\">\n",
       "  <thead>\n",
       "    <tr style=\"text-align: right;\">\n",
       "      <th></th>\n",
       "      <th>both_scores_prob</th>\n",
       "      <th>both_scores_pred</th>\n",
       "      <th>both_scores_true</th>\n",
       "      <th>both_scores_false</th>\n",
       "    </tr>\n",
       "  </thead>\n",
       "  <tbody>\n",
       "    <tr>\n",
       "      <th>0</th>\n",
       "      <td>0.498292</td>\n",
       "      <td>False</td>\n",
       "      <td>1.54</td>\n",
       "      <td>2.32</td>\n",
       "    </tr>\n",
       "  </tbody>\n",
       "</table>\n",
       "</div>"
      ],
      "text/plain": [
       "   both_scores_prob  both_scores_pred  both_scores_true  both_scores_false\n",
       "0          0.498292             False              1.54               2.32"
      ]
     },
     "execution_count": 95,
     "metadata": {},
     "output_type": "execute_result"
    }
   ],
   "source": [
    "df[['both_scores_prob', 'both_scores_pred', 'both_scores_true',\n",
    "       'both_scores_false']]"
   ]
  },
  {
   "cell_type": "code",
   "execution_count": 96,
   "id": "cd48540c-b476-4948-b93c-994f37cf7016",
   "metadata": {},
   "outputs": [
    {
     "data": {
      "text/html": [
       "<div>\n",
       "<style scoped>\n",
       "    .dataframe tbody tr th:only-of-type {\n",
       "        vertical-align: middle;\n",
       "    }\n",
       "\n",
       "    .dataframe tbody tr th {\n",
       "        vertical-align: top;\n",
       "    }\n",
       "\n",
       "    .dataframe thead th {\n",
       "        text-align: right;\n",
       "    }\n",
       "</style>\n",
       "<table border=\"1\" class=\"dataframe\">\n",
       "  <thead>\n",
       "    <tr style=\"text-align: right;\">\n",
       "      <th></th>\n",
       "      <th>result_pred</th>\n",
       "      <th>result_prob</th>\n",
       "      <th>result_home</th>\n",
       "      <th>result_draw</th>\n",
       "      <th>result_away</th>\n",
       "    </tr>\n",
       "  </thead>\n",
       "  <tbody>\n",
       "    <tr>\n",
       "      <th>0</th>\n",
       "      <td>2</td>\n",
       "      <td>0.756868</td>\n",
       "      <td>5.53</td>\n",
       "      <td>4.8</td>\n",
       "      <td>1.46</td>\n",
       "    </tr>\n",
       "  </tbody>\n",
       "</table>\n",
       "</div>"
      ],
      "text/plain": [
       "   result_pred  result_prob  result_home  result_draw  result_away\n",
       "0            2     0.756868         5.53          4.8         1.46"
      ]
     },
     "execution_count": 96,
     "metadata": {},
     "output_type": "execute_result"
    }
   ],
   "source": [
    "df[['result_pred', 'result_prob', 'result_home', 'result_draw', 'result_away']]"
   ]
  },
  {
   "cell_type": "code",
   "execution_count": 98,
   "id": "408b2fa5-5559-4d25-a055-aa9e6c21b264",
   "metadata": {},
   "outputs": [
    {
     "data": {
      "text/html": [
       "<div>\n",
       "<style scoped>\n",
       "    .dataframe tbody tr th:only-of-type {\n",
       "        vertical-align: middle;\n",
       "    }\n",
       "\n",
       "    .dataframe tbody tr th {\n",
       "        vertical-align: top;\n",
       "    }\n",
       "\n",
       "    .dataframe thead th {\n",
       "        text-align: right;\n",
       "    }\n",
       "</style>\n",
       "<table border=\"1\" class=\"dataframe\">\n",
       "  <thead>\n",
       "    <tr style=\"text-align: right;\">\n",
       "      <th></th>\n",
       "      <th>result_first_half_pred</th>\n",
       "      <th>result_first_half_prob</th>\n",
       "      <th>fh_result_home</th>\n",
       "      <th>fh_result_draw</th>\n",
       "      <th>fh_result_away</th>\n",
       "    </tr>\n",
       "  </thead>\n",
       "  <tbody>\n",
       "    <tr>\n",
       "      <th>0</th>\n",
       "      <td>1</td>\n",
       "      <td>0.648821</td>\n",
       "      <td>4.98</td>\n",
       "      <td>2.75</td>\n",
       "      <td>1.9</td>\n",
       "    </tr>\n",
       "  </tbody>\n",
       "</table>\n",
       "</div>"
      ],
      "text/plain": [
       "   result_first_half_pred  result_first_half_prob  fh_result_home  \\\n",
       "0                       1                0.648821            4.98   \n",
       "\n",
       "   fh_result_draw  fh_result_away  \n",
       "0            2.75             1.9  "
      ]
     },
     "execution_count": 98,
     "metadata": {},
     "output_type": "execute_result"
    }
   ],
   "source": [
    "df[['result_first_half_pred', 'result_first_half_prob', 'fh_result_home', 'fh_result_draw', 'fh_result_away']]"
   ]
  },
  {
   "cell_type": "code",
   "execution_count": 99,
   "id": "9ea41d17-7d3c-4526-ab5c-f086812145f3",
   "metadata": {},
   "outputs": [
    {
     "data": {
      "text/html": [
       "<div>\n",
       "<style scoped>\n",
       "    .dataframe tbody tr th:only-of-type {\n",
       "        vertical-align: middle;\n",
       "    }\n",
       "\n",
       "    .dataframe tbody tr th {\n",
       "        vertical-align: top;\n",
       "    }\n",
       "\n",
       "    .dataframe thead th {\n",
       "        text-align: right;\n",
       "    }\n",
       "</style>\n",
       "<table border=\"1\" class=\"dataframe\">\n",
       "  <thead>\n",
       "    <tr style=\"text-align: right;\">\n",
       "      <th></th>\n",
       "      <th>result_double_chance_home_pred</th>\n",
       "      <th>result_double_chance_away_pred</th>\n",
       "      <th>result_double_chance_home_prob</th>\n",
       "      <th>result_double_chance_away_prob</th>\n",
       "      <th>double_chance_home</th>\n",
       "      <th>double_chance_away</th>\n",
       "    </tr>\n",
       "  </thead>\n",
       "  <tbody>\n",
       "    <tr>\n",
       "      <th>0</th>\n",
       "      <td>True</td>\n",
       "      <td>False</td>\n",
       "      <td>0.748452</td>\n",
       "      <td>0.031406</td>\n",
       "      <td>2.55</td>\n",
       "      <td>1.15</td>\n",
       "    </tr>\n",
       "  </tbody>\n",
       "</table>\n",
       "</div>"
      ],
      "text/plain": [
       "   result_double_chance_home_pred  result_double_chance_away_pred  \\\n",
       "0                            True                           False   \n",
       "\n",
       "   result_double_chance_home_prob  result_double_chance_away_prob  \\\n",
       "0                        0.748452                        0.031406   \n",
       "\n",
       "   double_chance_home  double_chance_away  \n",
       "0                2.55                1.15  "
      ]
     },
     "execution_count": 99,
     "metadata": {},
     "output_type": "execute_result"
    }
   ],
   "source": [
    "df[['result_double_chance_home_pred', 'result_double_chance_away_pred', \n",
    "    'result_double_chance_home_prob', 'result_double_chance_away_prob', \n",
    "    'double_chance_home', 'double_chance_away']]"
   ]
  },
  {
   "cell_type": "markdown",
   "id": "a3f6a91f-6680-4ff8-b3f4-6373d9883184",
   "metadata": {
    "collapsed": true,
    "jupyter": {
     "outputs_hidden": true
    }
   },
   "source": [
    "#### Create combination of odds from same prediction for different matches"
   ]
  },
  {
   "cell_type": "code",
   "execution_count": 167,
   "id": "83a413f6-ede6-4ce4-8b56-fac53b007019",
   "metadata": {},
   "outputs": [
    {
     "data": {
      "text/html": [
       "<div>\n",
       "<style scoped>\n",
       "    .dataframe tbody tr th:only-of-type {\n",
       "        vertical-align: middle;\n",
       "    }\n",
       "\n",
       "    .dataframe tbody tr th {\n",
       "        vertical-align: top;\n",
       "    }\n",
       "\n",
       "    .dataframe thead th {\n",
       "        text-align: right;\n",
       "    }\n",
       "</style>\n",
       "<table border=\"1\" class=\"dataframe\">\n",
       "  <thead>\n",
       "    <tr style=\"text-align: right;\">\n",
       "      <th></th>\n",
       "      <th>fixture_id</th>\n",
       "      <th>teams_home_id</th>\n",
       "      <th>teams_away_id</th>\n",
       "      <th>home_over_1_prob</th>\n",
       "      <th>home_over_2_prob</th>\n",
       "      <th>away_over_1_prob</th>\n",
       "      <th>away_over_2_prob</th>\n",
       "      <th>both_scores_prob</th>\n",
       "      <th>home_over_1_pred</th>\n",
       "      <th>home_over_2_pred</th>\n",
       "      <th>...</th>\n",
       "      <th>both_scores_false</th>\n",
       "      <th>double_chance_home</th>\n",
       "      <th>double_chance_away</th>\n",
       "      <th>fh_result_home</th>\n",
       "      <th>fh_result_draw</th>\n",
       "      <th>fh_result_away</th>\n",
       "      <th>home_over_1</th>\n",
       "      <th>home_over_2</th>\n",
       "      <th>away_over_1</th>\n",
       "      <th>away_over_2</th>\n",
       "    </tr>\n",
       "  </thead>\n",
       "  <tbody>\n",
       "    <tr>\n",
       "      <th>0</th>\n",
       "      <td>1195620</td>\n",
       "      <td>9173</td>\n",
       "      <td>2076</td>\n",
       "      <td>0.117432</td>\n",
       "      <td>0.020667</td>\n",
       "      <td>0.777942</td>\n",
       "      <td>0.423710</td>\n",
       "      <td>0.498292</td>\n",
       "      <td>False</td>\n",
       "      <td>False</td>\n",
       "      <td>...</td>\n",
       "      <td>2.32</td>\n",
       "      <td>2.55</td>\n",
       "      <td>1.15</td>\n",
       "      <td>4.98</td>\n",
       "      <td>2.75</td>\n",
       "      <td>1.90</td>\n",
       "      <td>2.80</td>\n",
       "      <td>7.5</td>\n",
       "      <td>4.2</td>\n",
       "      <td>1.39</td>\n",
       "    </tr>\n",
       "    <tr>\n",
       "      <th>1</th>\n",
       "      <td>1152190</td>\n",
       "      <td>270</td>\n",
       "      <td>272</td>\n",
       "      <td>0.485314</td>\n",
       "      <td>0.217566</td>\n",
       "      <td>0.132401</td>\n",
       "      <td>0.022132</td>\n",
       "      <td>0.405173</td>\n",
       "      <td>False</td>\n",
       "      <td>False</td>\n",
       "      <td>...</td>\n",
       "      <td>2.72</td>\n",
       "      <td>1.26</td>\n",
       "      <td>1.21</td>\n",
       "      <td>2.24</td>\n",
       "      <td>2.52</td>\n",
       "      <td>3.82</td>\n",
       "      <td>5.05</td>\n",
       "      <td>1.5</td>\n",
       "      <td>11.5</td>\n",
       "      <td>2.19</td>\n",
       "    </tr>\n",
       "  </tbody>\n",
       "</table>\n",
       "<p>2 rows × 35 columns</p>\n",
       "</div>"
      ],
      "text/plain": [
       "   fixture_id  teams_home_id  teams_away_id  home_over_1_prob  \\\n",
       "0     1195620           9173           2076          0.117432   \n",
       "1     1152190            270            272          0.485314   \n",
       "\n",
       "   home_over_2_prob  away_over_1_prob  away_over_2_prob  both_scores_prob  \\\n",
       "0          0.020667          0.777942          0.423710          0.498292   \n",
       "1          0.217566          0.132401          0.022132          0.405173   \n",
       "\n",
       "   home_over_1_pred  home_over_2_pred  ...  both_scores_false  \\\n",
       "0             False             False  ...               2.32   \n",
       "1             False             False  ...               2.72   \n",
       "\n",
       "   double_chance_home  double_chance_away  fh_result_home  fh_result_draw  \\\n",
       "0                2.55                1.15            4.98            2.75   \n",
       "1                1.26                1.21            2.24            2.52   \n",
       "\n",
       "   fh_result_away  home_over_1  home_over_2  away_over_1  away_over_2  \n",
       "0            1.90         2.80          7.5          4.2         1.39  \n",
       "1            3.82         5.05          1.5         11.5         2.19  \n",
       "\n",
       "[2 rows x 35 columns]"
      ]
     },
     "execution_count": 167,
     "metadata": {},
     "output_type": "execute_result"
    }
   ],
   "source": [
    "df"
   ]
  },
  {
   "cell_type": "markdown",
   "id": "2284cd0f-5aca-474c-abec-1597e9db0bef",
   "metadata": {},
   "source": [
    "bierzemy po rodzaju beta\n",
    "dla każdego rodzaju szukamy tych z szansą powyżej 0.5\n",
    "bierzemy taką ilość betów żeby szansa wygranej była większa niż określona wartość (parametr minimalna szansa)\n",
    "sprawdzamy czy z betów kursy zsumowane są większe niż parametr minimalna wygrana\n",
    "wybieramy max 10 betów dla danego rodzaju (obliczone wagowo np. suma kursów *0,4 + suma szans*0,8)\n",
    "zapisujemy bety do bazy danych \n",
    "\n",
    "stworzenie kolumny określającej typ beta (ten sam mecz czy te same typy)"
   ]
  },
  {
   "cell_type": "code",
   "execution_count": 194,
   "id": "4da036f1-7a1e-48b2-be90-8cf2ec4a1cb6",
   "metadata": {},
   "outputs": [],
   "source": [
    "sets = [['home_over_1_prob','home_over_1'],\n",
    "        ['home_over_2_prob','home_over_2'],\n",
    "        ['away_over_1_prob','away_over_1'],\n",
    "        ['away_over_2_prob','away_over_2'],\n",
    "        ['both_scores_prob','both_scores_true','both_scores_false'],\n",
    "        ['result_prob','result_pred','result_home', 'result_draw', 'result_away'],\n",
    "        ['result_first_half_prob','result_first_half_pred','fh_result_home', 'fh_result_draw', 'fh_result_away'],\n",
    "        ['result_double_chance_home_prob','double_chance_home'],\n",
    "        ['result_double_chance_away_prob','double_chance_away']]"
   ]
  },
  {
   "cell_type": "code",
   "execution_count": 231,
   "id": "822b2f46-2b91-407f-8acb-df2fcbc610b1",
   "metadata": {
    "scrolled": true
   },
   "outputs": [
    {
     "name": "stdout",
     "output_type": "stream",
     "text": [
      "no proper odds for home_over_1 bet type\n",
      "no proper odds for home_over_2 bet type\n",
      "got away_over_1_prob bets\n",
      "no proper odds for away_over_2 bet type\n",
      "no proper odds for both_scores_true bet type\n",
      "got result_prob bets\n",
      "got result_first_half_prob bets\n",
      "got result_double_chance_home_prob bets\n",
      "no odds for double_chance_away bet type\n"
     ]
    },
    {
     "name": "stderr",
     "output_type": "stream",
     "text": [
      "C:\\Users\\olows\\AppData\\Local\\Temp\\ipykernel_4788\\90924678.py:18: SettingWithCopyWarning: \n",
      "A value is trying to be set on a copy of a slice from a DataFrame.\n",
      "Try using .loc[row_indexer,col_indexer] = value instead\n",
      "\n",
      "See the caveats in the documentation: https://pandas.pydata.org/pandas-docs/stable/user_guide/indexing.html#returning-a-view-versus-a-copy\n",
      "  df[new_col] = df.apply(\n"
     ]
    },
    {
     "data": {
      "text/html": [
       "<div>\n",
       "<style scoped>\n",
       "    .dataframe tbody tr th:only-of-type {\n",
       "        vertical-align: middle;\n",
       "    }\n",
       "\n",
       "    .dataframe tbody tr th {\n",
       "        vertical-align: top;\n",
       "    }\n",
       "\n",
       "    .dataframe thead th {\n",
       "        text-align: right;\n",
       "    }\n",
       "</style>\n",
       "<table border=\"1\" class=\"dataframe\">\n",
       "  <thead>\n",
       "    <tr style=\"text-align: right;\">\n",
       "      <th></th>\n",
       "      <th>fixture_id</th>\n",
       "      <th>probability</th>\n",
       "      <th>bet_value</th>\n",
       "      <th>bet_number</th>\n",
       "      <th>bet_name</th>\n",
       "    </tr>\n",
       "  </thead>\n",
       "  <tbody>\n",
       "    <tr>\n",
       "      <th>0</th>\n",
       "      <td>1195620</td>\n",
       "      <td>0.777942</td>\n",
       "      <td>4.20</td>\n",
       "      <td>1</td>\n",
       "      <td>away_over_1</td>\n",
       "    </tr>\n",
       "    <tr>\n",
       "      <th>0</th>\n",
       "      <td>1195620</td>\n",
       "      <td>0.756868</td>\n",
       "      <td>1.46</td>\n",
       "      <td>2</td>\n",
       "      <td>result</td>\n",
       "    </tr>\n",
       "    <tr>\n",
       "      <th>1</th>\n",
       "      <td>1152190</td>\n",
       "      <td>0.698675</td>\n",
       "      <td>1.79</td>\n",
       "      <td>2</td>\n",
       "      <td>result</td>\n",
       "    </tr>\n",
       "    <tr>\n",
       "      <th>0</th>\n",
       "      <td>1195620</td>\n",
       "      <td>0.648821</td>\n",
       "      <td>2.75</td>\n",
       "      <td>3</td>\n",
       "      <td>fh_result</td>\n",
       "    </tr>\n",
       "    <tr>\n",
       "      <th>0</th>\n",
       "      <td>1195620</td>\n",
       "      <td>0.748452</td>\n",
       "      <td>2.55</td>\n",
       "      <td>4</td>\n",
       "      <td>double_chance_home</td>\n",
       "    </tr>\n",
       "  </tbody>\n",
       "</table>\n",
       "</div>"
      ],
      "text/plain": [
       "   fixture_id  probability  bet_value  bet_number            bet_name\n",
       "0     1195620     0.777942       4.20           1         away_over_1\n",
       "0     1195620     0.756868       1.46           2              result\n",
       "1     1152190     0.698675       1.79           2              result\n",
       "0     1195620     0.648821       2.75           3           fh_result\n",
       "0     1195620     0.748452       2.55           4  double_chance_home"
      ]
     },
     "execution_count": 231,
     "metadata": {},
     "output_type": "execute_result"
    }
   ],
   "source": [
    "bet_num = get_idx()\n",
    "final_bets = None\n",
    "\n",
    "for el in sets:\n",
    "    bets, bet_num = bet_one_type(df,el, 0.5, 2, 0.6, bet_num)\n",
    "    if bets is not None:\n",
    "        bets = preprocess_data(bets)\n",
    "        if final_bets is not None:\n",
    "            final_bets=pd.concat([final_bets,bets])\n",
    "        else:\n",
    "            final_bets = bets\n",
    "    # preprocess data \n",
    "        \n",
    "    # save bets to bets table\n",
    "final_df = pd.DataFrame(final_bets)\n",
    "final_df"
   ]
  },
  {
   "cell_type": "code",
   "execution_count": 227,
   "id": "ad421f97-6de0-49e5-9591-06e110a2e506",
   "metadata": {},
   "outputs": [],
   "source": [
    "def preprocess_data(bets):\n",
    "    cols=list(bets.columns)\n",
    "    bets = bets.assign(bet_name=cols[2])\n",
    "    bets = bets.rename(columns={cols[1]:'probability', cols[2]:'bet_value'})\n",
    "    return bets"
   ]
  },
  {
   "cell_type": "code",
   "execution_count": 214,
   "id": "866b4ba5-11b9-4ef1-b8ab-eb8803ca51cd",
   "metadata": {
    "jupyter": {
     "source_hidden": true
    }
   },
   "outputs": [],
   "source": [
    "def bet_one_type(df, el, chance, bet, min_chance, bet_num):\n",
    "    \n",
    "    cols = ['fixture_id']+el\n",
    "    df = df[cols] # get subset of data with one odd type\n",
    "    df, new_el = get_df(el, df, min_chance)\n",
    "    if len(df) > 0:\n",
    "        summed_bet = 1\n",
    "        summed_chance = 1 \n",
    "        res_chance = 1 # final chance value\n",
    "        res_bet = 1 # final bet value\n",
    "        df.sort_values(by=el[0], ascending=False, inplace=True) # sort from best chance to worst\n",
    "        tmp_df = df # get tmp df to drop rows with too low bet value if necessary\n",
    "        tmp2_df = df # tmp2 for dropping chosen bets from df and find anothers without them\n",
    "        final_bets = None\n",
    "        chosen_bets = None\n",
    "        while len(tmp_df) > 0:\n",
    "            for num in range(len(tmp_df)):\n",
    "                if len(el)==2:\n",
    "                    summed_chance *= tmp_df[el[0]].iloc[num]\n",
    "                    summed_bet *= tmp_df[el[1]].iloc[num]\n",
    "                elif len(el)==3:\n",
    "                    if tmp_df[el[0]].iloc[num] > min_chance:\n",
    "                        summed_chance *= tmp_df[el[0]].iloc[num]\n",
    "                    else:\n",
    "                        summed_chance *= 1-tmp_df[el[0]].iloc[num]\n",
    "                    summed_bet *= tmp_df[new_el].iloc[num]\n",
    "                else:\n",
    "                    summed_chance *= tmp_df[el[0]].iloc[num]\n",
    "                    summed_bet *= tmp_df[new_el].iloc[num]\n",
    "                \n",
    "                if num==len(tmp_df)-1 and summed_chance > chance: \n",
    "                    # if its last iterate and inreaced chance is higher than given chance assign final values\n",
    "                    res_chance = summed_chance\n",
    "                    res_bet = summed_bet\n",
    "                    \n",
    "                if summed_chance < chance or num > 4 or num==len(tmp_df)-1:\n",
    "                    if res_bet > bet: # if final bet value is okay save bet and remove used bets from df\n",
    "                        if num==len(tmp_df)-1 and summed_chance > chance:\n",
    "                            num += 1\n",
    "                        chosen_bets = tmp_df.iloc[0:num]\n",
    "                        chosen_bets = chosen_bets.assign(bet_number = bet_num)\n",
    "                        bet_num+=1\n",
    "                        if final_bets is None:\n",
    "                            final_bets = chosen_bets\n",
    "                        else:\n",
    "                            final_bets = pd.concat([final_bets,chosen_bets])\n",
    "                        to_drop = []\n",
    "                        for n in range(num):\n",
    "                            val1 = tmp_df.iloc[n].iloc[0]\n",
    "                            val2 = tmp_df.iloc[n].iloc[1]\n",
    "                            val3 = tmp_df.iloc[n].iloc[2]\n",
    "                            if len(el)==2:\n",
    "                                cond = (\n",
    "                                    tmp2_df['fixture_id']==val1\n",
    "                                )&(\n",
    "                                    tmp2_df[el[0]]==val2\n",
    "                                )&(\n",
    "                                    tmp2_df[el[1]]==val3\n",
    "                                )\n",
    "                                \n",
    "                            else:\n",
    "                                cond = (\n",
    "                                    tmp2_df['fixture_id']==val1\n",
    "                                )&(\n",
    "                                    tmp2_df[el[0]]==val2\n",
    "                                )&(\n",
    "                                    tmp2_df[new_el]==val3\n",
    "                                )\n",
    "                                \n",
    "                            idx = tmp2_df[cond].index[0]\n",
    "                            \n",
    "                            to_drop.append(idx)\n",
    "                        tmp2_df = tmp2_df.drop(to_drop)\n",
    "                        tmp_df = tmp2_df\n",
    "\n",
    "                    else: # if final bet value is too low drop row with the lowest bet \n",
    "                        if len(el)==2:\n",
    "                            to_drop = tmp_df[el[1]].idxmin()\n",
    "                        else:\n",
    "                            to_drop = tmp_df[new_el].idxmin()\n",
    "                        tmp_df = tmp_df.drop(to_drop)\n",
    "                    summed_bet = 1\n",
    "                    summed_chance = 1 \n",
    "                    res_chance = 1\n",
    "                    res_bet = 1\n",
    "                    break\n",
    "                else:\n",
    "                    res_chance = summed_chance\n",
    "                    res_bet = summed_bet\n",
    "        if final_bets is not None:\n",
    "            print(f'got {el[0]} bets')\n",
    "            return final_bets, bet_num\n",
    "        else:\n",
    "            print(f'no odds for {el[1]} bet type')\n",
    "            return None, bet_num\n",
    "    else:\n",
    "        print(f'no proper odds for {el[1]} bet type')\n",
    "        return None, bet_num"
   ]
  },
  {
   "cell_type": "code",
   "execution_count": 211,
   "id": "8402ae6a-cbd7-4a9f-8ca9-d0da993b367a",
   "metadata": {
    "jupyter": {
     "source_hidden": true
    }
   },
   "outputs": [],
   "source": [
    "def get_df(el, df, min_chance):\n",
    "    if len(el)==2:\n",
    "        df = df[df[el[0]]>min_chance] # get only odds with chance above 0.5\n",
    "        new_el = ''\n",
    "        \n",
    "    elif len(el)==3:\n",
    "        df = df[(df[el[0]]>min_chance)|(df[el[0]]<1-min_chance)] # get only odds with chance above minimal chance\n",
    "        df['both_scores'] = df.apply(lambda row: row[el[1]] if row[el[0]]>0.5 else row[el[2]], axis=1)\n",
    "        df = df.drop(columns={el[1],el[2]})\n",
    "        new_el = 'both_scores'\n",
    "\n",
    "    else:\n",
    "        df = df[df[el[0]]>min_chance] # get only odds with chance above minimal chance\n",
    "        if el[3].startswith('fh'):\n",
    "            new_col='fh_result'\n",
    "        else:\n",
    "            new_col='result'\n",
    "        df[new_col] = df.apply(\n",
    "            lambda row: row[el[2]] if row[el[1]]==0 else (row[el[3]] if row[el[1]]==1 else row[el[4]]),\n",
    "            axis=1\n",
    "        )\n",
    "        df = df.drop(columns={el[1],el[2],el[3],el[4]})\n",
    "        new_el = new_col\n",
    "    return df, new_el"
   ]
  },
  {
   "cell_type": "code",
   "execution_count": 212,
   "id": "825eb65f-2dc8-4b78-ac05-fea8cf2398fc",
   "metadata": {
    "jupyter": {
     "source_hidden": true
    }
   },
   "outputs": [],
   "source": [
    "def get_idx():\n",
    "    conn = None\n",
    "    cur = None\n",
    "    params = {\n",
    "        'database' : 'preds',\n",
    "        'user' : 'postgres',\n",
    "        'password' : 'pass',\n",
    "        'host' : 'localhost',\n",
    "        'port' : '5432'}\n",
    "\n",
    "    try:\n",
    "        conn = psycopg2.connect(**params)\n",
    "        cur = conn.cursor()\n",
    "        query = '''\n",
    "        SELECT MAX(bet_number) AS max_bet_number\n",
    "        FROM bets\n",
    "        '''\n",
    "        cur.execute(query)\n",
    "        res = cur.fetchone()\n",
    "        if res[0]:\n",
    "            return res[0]\n",
    "        else:\n",
    "            return 1\n",
    "    except Exception as e:\n",
    "        print(f'{e}')\n",
    "    finally:\n",
    "        if cur is not None:\n",
    "            cur.close()\n",
    "        if conn is not None:\n",
    "            conn.close()"
   ]
  },
  {
   "cell_type": "markdown",
   "id": "6145a125-089b-49bc-a92c-cd8530e4185c",
   "metadata": {
    "jp-MarkdownHeadingCollapsed": true
   },
   "source": [
    "#### Create combination of odds from same match"
   ]
  },
  {
   "cell_type": "code",
   "execution_count": 4,
   "id": "133ec212-a138-4131-9d43-a94c74b3b794",
   "metadata": {},
   "outputs": [],
   "source": [
    "odds = dict()"
   ]
  },
  {
   "cell_type": "code",
   "execution_count": 7,
   "id": "82de591e-803d-4e46-b4ae-781d3cda3e75",
   "metadata": {},
   "outputs": [],
   "source": [
    "for el in list(df['fixture_id'].unique()):\n",
    "    odds[el]={}\n",
    "    odds[el]['home_over_1'] = {df[df['fixture_id']==el]['home_over_1_prob'][0]:df[df['fixture_id']==el]['home_over_1'][0]}\n",
    "    odds[el]['home_over_2'] = {df[df['fixture_id']==el]['home_over_2_prob'][0]:df[df['fixture_id']==el]['home_over_2'][0]}\n",
    "    odds[el]['away_over_1'] = {df[df['fixture_id']==el]['away_over_1_prob'][0]:df[df['fixture_id']==el]['away_over_1'][0]}\n",
    "    odds[el]['away_over_2'] = {df[df['fixture_id']==el]['away_over_2_prob'][0]:df[df['fixture_id']==el]['away_over_2'][0]}\n",
    "    if df[df['fixture_id']==el]['both_scores_prob'][0] > 0.5:\n",
    "        bs = df[df['fixture_id']==el]['both_scores_true'][0]\n",
    "    else:\n",
    "        bs = df[df['fixture_id']==el]['both_scores_false'][0]\n",
    "    odds[el]['both_scores'] = {df[df['fixture_id']==el]['both_scores_prob'][0]:bs}\n",
    "    if df[df['fixture_id']==el]['result_first_half_pred'][0] == 0:\n",
    "        add='home'\n",
    "    elif df[df['fixture_id']==el]['result_first_half_pred'][0] == 1:\n",
    "        add='draw'\n",
    "    else:\n",
    "        add='away'\n",
    "    odds[el][f'result_first_half_{add}'] = {df[df['fixture_id']==el]['result_first_half_prob'][0]:df[df['fixture_id']==el][f'fh_result_{add}'][0]}\n",
    "    if df[df['fixture_id']==el]['result_pred'][0] == 0:\n",
    "        add='home'\n",
    "    elif df[df['fixture_id']==el]['result_pred'][0] == 1:\n",
    "        add='draw'\n",
    "    else:\n",
    "        add='away'\n",
    "    odds[el][f'result_{add}'] = {df[df['fixture_id']==el]['result_prob'][0]:df[df['fixture_id']==el][f'result_{add}'][0]}\n",
    "    odds[el]['result_double_chance_home'] = {df[df['fixture_id']==el]['result_double_chance_home_prob'][0]:df[df['fixture_id']==el]['double_chance_home'][0]}\n",
    "    odds[el]['result_double_chance_away'] = {df[df['fixture_id']==el]['result_double_chance_away_prob'][0]:df[df['fixture_id']==el]['double_chance_away'][0]}"
   ]
  },
  {
   "cell_type": "code",
   "execution_count": null,
   "id": "599f57d1-619a-4b95-b212-550ce59c8aaa",
   "metadata": {},
   "outputs": [],
   "source": [
    "match = 1195620\n",
    "chance = 0.5\n",
    "bonus_incomes = 0.2 # 20% incomes\n",
    "summed_bet = 1\n",
    "min_bet_val = (1/chance+ 0.2/chance)\n",
    "min_bet_val += min_bet_val*0.23"
   ]
  },
  {
   "cell_type": "code",
   "execution_count": null,
   "id": "47ca5057-8642-4810-89de-5f44069dd170",
   "metadata": {},
   "outputs": [],
   "source": [
    "def bet_one_match(match, summed_bet, min_bet_val):\n",
    "    \n",
    "    odds_l = []\n",
    "    best_odds = {}\n",
    "    best_bet_v = 0\n",
    "    predicted_chance = 0   \n",
    "    \n",
    "    for key, value in odds[match].items():\n",
    "        for k, v in value.items():\n",
    "            if k > 0.5:\n",
    "                odds_l.append(k)\n",
    "    odds_l.sort(reverse=True)\n",
    "    \n",
    "    while odds_l:\n",
    "        res = 1\n",
    "        ind = 0\n",
    "        summed_bet = 1\n",
    "        \n",
    "        for index, el in enumerate(odds_l):\n",
    "            res *= el\n",
    "            if res < chance:\n",
    "                ind = index\n",
    "                break\n",
    "            ans_res = res\n",
    "            \n",
    "        chosen_odds = {}\n",
    "        if ind==0:\n",
    "            ind+=1\n",
    "        for num in range(ind):\n",
    "            for key, value in odds[match].items():\n",
    "                if odds_l[num] in value:\n",
    "                    chosen_odds[key] = {odds_l[num]:value[odds_l[num]]}\n",
    "                    \n",
    "        bets_l = []\n",
    "        for key, value in chosen_odds.items():\n",
    "            for k, v in value.items():\n",
    "                summed_bet *= v\n",
    "                bets_l.append(v)\n",
    "        bets_l.sort()\n",
    "\n",
    "        for key, value in odds[match].items():\n",
    "            for k, v in value.items():\n",
    "                if v == bets_l[0]:\n",
    "                    to_drop = k\n",
    "\n",
    "        print(summed_bet, best_bet_v)\n",
    "        if summed_bet > best_bet_v:\n",
    "            best_odds = chosen_odds\n",
    "            best_bet_v = summed_bet\n",
    "            predicted_chance = ans_res\n",
    "        odds_l.remove(to_drop)\n",
    "    return best_odds, best_bet_v, predicted_chance"
   ]
  },
  {
   "cell_type": "code",
   "execution_count": null,
   "id": "eb5a8c10-d028-49ab-be69-d936bf733d81",
   "metadata": {},
   "outputs": [],
   "source": [
    "bets, summed_bet_value, pred_chance = bet_one_match(1236342, summed_bet, min_bet_val)"
   ]
  },
  {
   "cell_type": "code",
   "execution_count": 10,
   "id": "bb00304d-ba97-42bd-868d-76b7a8369393",
   "metadata": {},
   "outputs": [
    {
     "data": {
      "text/plain": [
       "{'away_over_1': {0.7779422402381897: 4.2},\n",
       " 'result_double_chance_home': {0.7484520673751831: 2.55}}"
      ]
     },
     "execution_count": 10,
     "metadata": {},
     "output_type": "execute_result"
    }
   ],
   "source": [
    "bets"
   ]
  }
 ],
 "metadata": {
  "kernelspec": {
   "display_name": "Python 3 (ipykernel)",
   "language": "python",
   "name": "python3"
  },
  "language_info": {
   "codemirror_mode": {
    "name": "ipython",
    "version": 3
   },
   "file_extension": ".py",
   "mimetype": "text/x-python",
   "name": "python",
   "nbconvert_exporter": "python",
   "pygments_lexer": "ipython3",
   "version": "3.12.4"
  }
 },
 "nbformat": 4,
 "nbformat_minor": 5
}
