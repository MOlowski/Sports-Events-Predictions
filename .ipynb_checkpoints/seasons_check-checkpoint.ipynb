{
 "cells": [
  {
   "cell_type": "code",
   "execution_count": 70,
   "id": "8e47df32-5bba-493d-a20d-59113fb80b9d",
   "metadata": {},
   "outputs": [],
   "source": [
    "import requests\n",
    "import json\n",
    "import pandas as pd\n",
    "\n",
    "URL = \"https://v3.football.api-sports.io/\"\n",
    "endpoint = \"leagues\"\n",
    "\n",
    "headers = {\n",
    "\t'x-rapidapi-host': \"v3.football.api-sports.io\",\n",
    "    'x-rapidapi-key': \"fb2140228973d644db847895c454c22b\"\n",
    "}\n",
    "\n",
    "params = {}\n",
    "\n",
    "def api_req(endpoint, params):\n",
    "    response = requests.get(\n",
    "        URL+endpoint,\n",
    "        headers = headers,\n",
    "        params = params\n",
    "    )\n",
    "    if response.status_code == 200:\n",
    "            \n",
    "        remaining = response.headers.get(\"x-ratelimit-requests-remaining\")\n",
    "        data = response.json()\n",
    "        print(f\"requests before reaching limit {remaining}\")\n",
    "\n",
    "    else:\n",
    "        print(f\"Error {response.status_code}, {response.text}\")\n",
    "\n",
    "    return data"
   ]
  },
  {
   "cell_type": "code",
   "execution_count": 71,
   "id": "3c9753ad-61cf-4807-9071-ad8ba9cb0174",
   "metadata": {
    "jupyter": {
     "source_hidden": true
    }
   },
   "outputs": [],
   "source": [
    "def get_cols(response, coverage):\n",
    "    coverages = response\n",
    "    for key, val in coverages.items():\n",
    "        if isinstance(val, dict):\n",
    "            coverage = get_cols(val, coverage)\n",
    "        else:\n",
    "            coverage.append(key)\n",
    "    return coverage"
   ]
  },
  {
   "cell_type": "code",
   "execution_count": 72,
   "id": "f9e4039d-4f8b-4336-b2e9-dc1c61b6c56c",
   "metadata": {
    "jupyter": {
     "source_hidden": true
    }
   },
   "outputs": [],
   "source": [
    "# functions inserting data into contests and seasons dfs\n",
    "def insert_contests(response):\n",
    "    contests_rows = []\n",
    "    for league in response['response']:\n",
    "        contest_row = {'league_id': league['league']['id'],\n",
    "                       'name': league['league']['name'],\n",
    "                       'type': league['league']['type'],\n",
    "                       'logo': league['league']['logo'],\n",
    "                       'country': league['country']['name'],\n",
    "                       'country_code': league['country']['code'],\n",
    "                       'seasons': len(league['seasons'])}\n",
    "        contests_rows.append(contest_row)\n",
    "    contests = pd.DataFrame(contests_rows)\n",
    "    return contests\n",
    "\n",
    "def insert_seasons(response):\n",
    "    season_rows = []\n",
    "    for league in response['response']:\n",
    "        for season in league['seasons']:\n",
    "            row = {}\n",
    "            row['league_id'] = league['league']['id']\n",
    "            for key, val in season.items():\n",
    "\n",
    "                if key == 'coverage':\n",
    "                    for k, v in season['coverage'].items():\n",
    "                        if k == 'fixtures':\n",
    "                            for a, b in season['coverage']['fixtures'].items():\n",
    "                                row[a] = b\n",
    "                        else:\n",
    "                            row[k] = v\n",
    "                else:\n",
    "                    row[key] = val\n",
    "            season_rows.append(row)\n",
    "    \n",
    "    seasons = pd.DataFrame(season_rows)\n",
    "    return seasons"
   ]
  },
  {
   "cell_type": "code",
   "execution_count": 73,
   "id": "22584984-a807-44c5-ab7d-dc09e6bdabc1",
   "metadata": {},
   "outputs": [
    {
     "name": "stdout",
     "output_type": "stream",
     "text": [
      "requests before reaching limit 7496\n"
     ]
    }
   ],
   "source": [
    "leagues = api_req(endpoint,params)"
   ]
  },
  {
   "cell_type": "code",
   "execution_count": 74,
   "id": "a1170d8c-d12c-4401-80d7-a8ba87fcf317",
   "metadata": {},
   "outputs": [],
   "source": [
    "covs = []\n",
    "coverages = get_cols(leagues['response'][0]['seasons'][0], covs)"
   ]
  },
  {
   "cell_type": "code",
   "execution_count": 75,
   "id": "ec68e3c6-0af7-425e-932e-33e3ebb57ae7",
   "metadata": {
    "scrolled": true
   },
   "outputs": [
    {
     "data": {
      "text/plain": [
       "['year',\n",
       " 'start',\n",
       " 'end',\n",
       " 'current',\n",
       " 'events',\n",
       " 'lineups',\n",
       " 'statistics_fixtures',\n",
       " 'statistics_players',\n",
       " 'standings',\n",
       " 'players',\n",
       " 'top_scorers',\n",
       " 'top_assists',\n",
       " 'top_cards',\n",
       " 'injuries',\n",
       " 'predictions',\n",
       " 'odds']"
      ]
     },
     "execution_count": 75,
     "metadata": {},
     "output_type": "execute_result"
    }
   ],
   "source": [
    "covs"
   ]
  },
  {
   "cell_type": "code",
   "execution_count": 82,
   "id": "450286eb-75ab-42a0-982e-6b531055325f",
   "metadata": {},
   "outputs": [],
   "source": [
    "contests = insert_contests(leagues)\n",
    "seasons = insert_seasons(leagues)"
   ]
  },
  {
   "cell_type": "code",
   "execution_count": 77,
   "id": "754ff9f0-d145-46e1-acf7-ed0cffe2907c",
   "metadata": {},
   "outputs": [],
   "source": [
    "contests.set_index('league_id', inplace=True)"
   ]
  },
  {
   "cell_type": "code",
   "execution_count": 86,
   "id": "8e191eb2-4349-4a8e-b95b-cf847ea5d21d",
   "metadata": {},
   "outputs": [
    {
     "data": {
      "text/html": [
       "<div>\n",
       "<style scoped>\n",
       "    .dataframe tbody tr th:only-of-type {\n",
       "        vertical-align: middle;\n",
       "    }\n",
       "\n",
       "    .dataframe tbody tr th {\n",
       "        vertical-align: top;\n",
       "    }\n",
       "\n",
       "    .dataframe thead th {\n",
       "        text-align: right;\n",
       "    }\n",
       "</style>\n",
       "<table border=\"1\" class=\"dataframe\">\n",
       "  <thead>\n",
       "    <tr style=\"text-align: right;\">\n",
       "      <th></th>\n",
       "      <th>league_id</th>\n",
       "      <th>name</th>\n",
       "      <th>type</th>\n",
       "      <th>logo</th>\n",
       "      <th>country</th>\n",
       "      <th>country_code</th>\n",
       "      <th>seasons</th>\n",
       "    </tr>\n",
       "  </thead>\n",
       "  <tbody>\n",
       "    <tr>\n",
       "      <th>2</th>\n",
       "      <td>61</td>\n",
       "      <td>Ligue 1</td>\n",
       "      <td>League</td>\n",
       "      <td>https://media.api-sports.io/football/leagues/6...</td>\n",
       "      <td>France</td>\n",
       "      <td>FR</td>\n",
       "      <td>15</td>\n",
       "    </tr>\n",
       "    <tr>\n",
       "      <th>3</th>\n",
       "      <td>144</td>\n",
       "      <td>Jupiler Pro League</td>\n",
       "      <td>League</td>\n",
       "      <td>https://media.api-sports.io/football/leagues/1...</td>\n",
       "      <td>Belgium</td>\n",
       "      <td>BE</td>\n",
       "      <td>15</td>\n",
       "    </tr>\n",
       "    <tr>\n",
       "      <th>5</th>\n",
       "      <td>39</td>\n",
       "      <td>Premier League</td>\n",
       "      <td>League</td>\n",
       "      <td>https://media.api-sports.io/football/leagues/3...</td>\n",
       "      <td>England</td>\n",
       "      <td>GB</td>\n",
       "      <td>15</td>\n",
       "    </tr>\n",
       "    <tr>\n",
       "      <th>6</th>\n",
       "      <td>78</td>\n",
       "      <td>Bundesliga</td>\n",
       "      <td>League</td>\n",
       "      <td>https://media.api-sports.io/football/leagues/7...</td>\n",
       "      <td>Germany</td>\n",
       "      <td>DE</td>\n",
       "      <td>14</td>\n",
       "    </tr>\n",
       "    <tr>\n",
       "      <th>7</th>\n",
       "      <td>135</td>\n",
       "      <td>Serie A</td>\n",
       "      <td>League</td>\n",
       "      <td>https://media.api-sports.io/football/leagues/1...</td>\n",
       "      <td>Italy</td>\n",
       "      <td>IT</td>\n",
       "      <td>14</td>\n",
       "    </tr>\n",
       "  </tbody>\n",
       "</table>\n",
       "</div>"
      ],
      "text/plain": [
       "   league_id                name    type  \\\n",
       "2         61             Ligue 1  League   \n",
       "3        144  Jupiler Pro League  League   \n",
       "5         39      Premier League  League   \n",
       "6         78          Bundesliga  League   \n",
       "7        135             Serie A  League   \n",
       "\n",
       "                                                logo  country country_code  \\\n",
       "2  https://media.api-sports.io/football/leagues/6...   France           FR   \n",
       "3  https://media.api-sports.io/football/leagues/1...  Belgium           BE   \n",
       "5  https://media.api-sports.io/football/leagues/3...  England           GB   \n",
       "6  https://media.api-sports.io/football/leagues/7...  Germany           DE   \n",
       "7  https://media.api-sports.io/football/leagues/1...    Italy           IT   \n",
       "\n",
       "   seasons  \n",
       "2       15  \n",
       "3       15  \n",
       "5       15  \n",
       "6       14  \n",
       "7       14  "
      ]
     },
     "execution_count": 86,
     "metadata": {},
     "output_type": "execute_result"
    }
   ],
   "source": [
    "contests.head()"
   ]
  },
  {
   "cell_type": "code",
   "execution_count": 87,
   "id": "551c73d4-66f1-4455-ade7-42b920a07c7c",
   "metadata": {},
   "outputs": [],
   "source": [
    "uefa = pd.read_csv('data/UEFA_Ranking_2024.csv')\n",
    "eur_cs = list(uefa['country'].unique())\n",
    "contests = contests[contests['country'].isin(eur_cs)]\n",
    "eur_ss = list(contests['league_id'].unique())\n",
    "eur_seasons = seasons[seasons['league_id'].isin(eur_ss)]\n",
    "eur_seasons = eur_seasons.merge(contests[['league_id','country','name']], on='league_id')\n",
    "eur_seasons = eur_seasons[[\n",
    "    'league_id', 'name', 'country', \n",
    "    'year', 'players','statistics_fixtures', \n",
    "    'current', 'predictions', 'odds'\n",
    "]]"
   ]
  },
  {
   "cell_type": "code",
   "execution_count": 17,
   "id": "5a429a4d-741d-4dd6-9fb9-89b80c1e2432",
   "metadata": {},
   "outputs": [
    {
     "data": {
      "text/html": [
       "<div>\n",
       "<style scoped>\n",
       "    .dataframe tbody tr th:only-of-type {\n",
       "        vertical-align: middle;\n",
       "    }\n",
       "\n",
       "    .dataframe tbody tr th {\n",
       "        vertical-align: top;\n",
       "    }\n",
       "\n",
       "    .dataframe thead th {\n",
       "        text-align: right;\n",
       "    }\n",
       "</style>\n",
       "<table border=\"1\" class=\"dataframe\">\n",
       "  <thead>\n",
       "    <tr style=\"text-align: right;\">\n",
       "      <th></th>\n",
       "      <th>Unnamed: 0</th>\n",
       "      <th>league_id</th>\n",
       "      <th>name</th>\n",
       "      <th>country</th>\n",
       "      <th>year</th>\n",
       "      <th>players</th>\n",
       "      <th>statistics_fixtures</th>\n",
       "      <th>current</th>\n",
       "      <th>predictions</th>\n",
       "      <th>odds</th>\n",
       "    </tr>\n",
       "  </thead>\n",
       "  <tbody>\n",
       "    <tr>\n",
       "      <th>0</th>\n",
       "      <td>0</td>\n",
       "      <td>39</td>\n",
       "      <td>Premier League</td>\n",
       "      <td>England</td>\n",
       "      <td>2010</td>\n",
       "      <td>True</td>\n",
       "      <td>False</td>\n",
       "      <td>False</td>\n",
       "      <td>True</td>\n",
       "      <td>False</td>\n",
       "    </tr>\n",
       "    <tr>\n",
       "      <th>1</th>\n",
       "      <td>1</td>\n",
       "      <td>39</td>\n",
       "      <td>Premier League</td>\n",
       "      <td>England</td>\n",
       "      <td>2011</td>\n",
       "      <td>True</td>\n",
       "      <td>False</td>\n",
       "      <td>False</td>\n",
       "      <td>True</td>\n",
       "      <td>False</td>\n",
       "    </tr>\n",
       "    <tr>\n",
       "      <th>2</th>\n",
       "      <td>2</td>\n",
       "      <td>39</td>\n",
       "      <td>Premier League</td>\n",
       "      <td>England</td>\n",
       "      <td>2012</td>\n",
       "      <td>True</td>\n",
       "      <td>False</td>\n",
       "      <td>False</td>\n",
       "      <td>True</td>\n",
       "      <td>False</td>\n",
       "    </tr>\n",
       "    <tr>\n",
       "      <th>3</th>\n",
       "      <td>3</td>\n",
       "      <td>39</td>\n",
       "      <td>Premier League</td>\n",
       "      <td>England</td>\n",
       "      <td>2013</td>\n",
       "      <td>True</td>\n",
       "      <td>False</td>\n",
       "      <td>False</td>\n",
       "      <td>True</td>\n",
       "      <td>False</td>\n",
       "    </tr>\n",
       "    <tr>\n",
       "      <th>4</th>\n",
       "      <td>4</td>\n",
       "      <td>39</td>\n",
       "      <td>Premier League</td>\n",
       "      <td>England</td>\n",
       "      <td>2014</td>\n",
       "      <td>True</td>\n",
       "      <td>True</td>\n",
       "      <td>False</td>\n",
       "      <td>True</td>\n",
       "      <td>False</td>\n",
       "    </tr>\n",
       "  </tbody>\n",
       "</table>\n",
       "</div>"
      ],
      "text/plain": [
       "   Unnamed: 0  league_id            name  country  year  players  \\\n",
       "0           0         39  Premier League  England  2010     True   \n",
       "1           1         39  Premier League  England  2011     True   \n",
       "2           2         39  Premier League  England  2012     True   \n",
       "3           3         39  Premier League  England  2013     True   \n",
       "4           4         39  Premier League  England  2014     True   \n",
       "\n",
       "   statistics_fixtures  current  predictions   odds  \n",
       "0                False    False         True  False  \n",
       "1                False    False         True  False  \n",
       "2                False    False         True  False  \n",
       "3                False    False         True  False  \n",
       "4                 True    False         True  False  "
      ]
     },
     "execution_count": 17,
     "metadata": {},
     "output_type": "execute_result"
    }
   ],
   "source": [
    "es = pd.read_csv('data/european_seasons.csv')"
   ]
  },
  {
   "cell_type": "code",
   "execution_count": 107,
   "id": "d0aae7f9-893b-46ec-9288-a28f326c735d",
   "metadata": {},
   "outputs": [],
   "source": [
    "diff_df = eur_seasons.merge(es[['league_id','year']], on=['league_id','year'], how='left', indicator=True)\n",
    "only_in_df2 = diff_df[diff_df['_merge'] == 'left_only'].drop(columns='_merge')"
   ]
  },
  {
   "cell_type": "code",
   "execution_count": 113,
   "id": "97e4e556-b7de-4509-8d25-7de357bda6e0",
   "metadata": {},
   "outputs": [],
   "source": [
    "new_seasons = list(zip(only_in_df2['league_id'],only_in_df2['year']))"
   ]
  },
  {
   "cell_type": "code",
   "execution_count": 119,
   "id": "fe63d707-ebf1-40f7-8c64-fd345f5a6e57",
   "metadata": {},
   "outputs": [],
   "source": [
    "with open('data/new_seasons.csv', 'w') as file:\n",
    "    json.dump(new_seasons, file)"
   ]
  }
 ],
 "metadata": {
  "kernelspec": {
   "display_name": "Python 3 (ipykernel)",
   "language": "python",
   "name": "python3"
  },
  "language_info": {
   "codemirror_mode": {
    "name": "ipython",
    "version": 3
   },
   "file_extension": ".py",
   "mimetype": "text/x-python",
   "name": "python",
   "nbconvert_exporter": "python",
   "pygments_lexer": "ipython3",
   "version": "3.12.4"
  }
 },
 "nbformat": 4,
 "nbformat_minor": 5
}
