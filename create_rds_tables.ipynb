{
 "cells": [
  {
   "cell_type": "code",
   "execution_count": 3,
   "id": "58ddf1b1-3165-43b7-a7e8-60fae79f9aad",
   "metadata": {},
   "outputs": [],
   "source": [
    "import pandas as pd"
   ]
  },
  {
   "cell_type": "code",
   "execution_count": 10,
   "id": "54b2e2bd-5e00-4e87-bfe1-5cda3128a722",
   "metadata": {},
   "outputs": [
    {
     "name": "stdout",
     "output_type": "stream",
     "text": [
      "Index(['name', 'code'], dtype='object') Index(['league_id', 'name', 'type', 'country', 'country_code', 'seasons'], dtype='object') Index(['league_id', 'year', 'start', 'end', 'current', 'events', 'lineups',\n",
      "       'statistics_fixtures', 'statistics_players', 'standings', 'players',\n",
      "       'top_scorers', 'top_assists', 'top_cards', 'injuries', 'predictions',\n",
      "       'odds'],\n",
      "      dtype='object')\n"
     ]
    }
   ],
   "source": [
    "def preprocess_players(data):\n",
    "    player_info = data['player']\n",
    "    stats = data['statistics'][0] if data['statistics'] else {}\n",
    "    \n",
    "    player_dict = {\n",
    "        'player_id': player_info['id'],\n",
    "        'player_name': player_info['name'],\n",
    "        'firstname': player_info['firstname'],\n",
    "        'lastname': player_info['lastname'],\n",
    "        'age': player_info['age'],\n",
    "        'nationality': player_info['nationality'],\n",
    "        'height': player_info['height'],\n",
    "        'weight': player_info['weight'],\n",
    "        'injured': player_info['injured'],\n",
    "        'team_id': stats.get('team', {}).get('id', None),\n",
    "        'team_name': stats.get('team', {}).get('name', None),\n",
    "        'league_id': stats.get('league', {}).get('id', None),\n",
    "        'season': stats.get('league', {}).get('season', None),\n",
    "        'appearences': stats.get('games', {}).get('appearences', None),\n",
    "        'lineups': stats.get('games', {}).get('lineups', None),\n",
    "        'minutes': stats.get('games', {}).get('minutes', None),\n",
    "        'position': stats.get('games', {}).get('position', None),\n",
    "        'rating': stats.get('games', {}).get('rating', None),\n",
    "        'captain': stats.get('games', {}).get('captain', None),\n",
    "        'substitutes_in': stats.get('substitutes', {}).get('in', None),\n",
    "        'substitutes_out': stats.get('substitutes', {}).get('out', None),\n",
    "        'substitutes_bench': stats.get('substitutes', {}).get('bench', None),\n",
    "        'shots_total': stats.get('shots', {}).get('total', None),\n",
    "        'shots_on': stats.get('shots', {}).get('on', None),\n",
    "        'goals_total': stats.get('goals', {}).get('total', None),\n",
    "        'goals_conceded': stats.get('goals', {}).get('conceded', None),\n",
    "        'goals_assists': stats.get('goals', {}).get('assists', None),\n",
    "        'goals_saves': stats.get('goals', {}).get('saves', None),\n",
    "        'passes_total': stats.get('passes', {}).get('total', None),\n",
    "        'passes_key': stats.get('passes', {}).get('key', None),\n",
    "        'passes_accuracy': stats.get('passes', {}).get('accuracy', None),\n",
    "        'tackles_total': stats.get('tackles', {}).get('total', None),\n",
    "        'tackles_blocks': stats.get('tackles', {}).get('blocks', None),\n",
    "        'tackles_interceptions': stats.get('tackles', {}).get('interceptions', None),\n",
    "        'duels_total': stats.get('duels', {}).get('total', None),\n",
    "        'duels_won': stats.get('duels', {}).get('won', None),\n",
    "        'dribbles_attempts': stats.get('dribbles', {}).get('attempts', None),\n",
    "        'dribbles_success': stats.get('dribbles', {}).get('success', None),\n",
    "        'dribbles_past': stats.get('dribbles', {}).get('past', None),\n",
    "        'fouls_drawn': stats.get('fouls', {}).get('drawn', None),\n",
    "        'fouls_committed': stats.get('fouls', {}).get('committed', None),\n",
    "        'cards_yellow': stats.get('cards', {}).get('yellow', None),\n",
    "        'cards_yellowred': stats.get('cards', {}).get('yellowred', None),\n",
    "        'cards_red': stats.get('cards', {}).get('red', None),\n",
    "        'penalty_won': stats.get('penalty', {}).get('won', None),\n",
    "        'penalty_committed': stats.get('penalty', {}).get('commited', None),\n",
    "        'penalty_scored': stats.get('penalty', {}).get('scored', None),\n",
    "        'penalty_missed': stats.get('penalty', {}).get('missed', None),\n",
    "        'penalty_saved': stats.get('penalty', {}).get('saved', None)\n",
    "    }\n",
    "    \n",
    "    return player_dict\n",
    "\n",
    "def preprocess_teams(data):\n",
    "    team_info = data['team']\n",
    "    \n",
    "    team_dict = {\n",
    "        'team_id': team_info['id'],\n",
    "        'team_name': team_info['name'],\n",
    "        'team_country': team_info['country'],\n",
    "        'national': team_info['national'],\n",
    "        'venue_capacity': data['vanue']['capacity'],\n",
    "        'venure_surface': data['venue']['surface']\n",
    "    }\n",
    "    return team_dict\n",
    "\n",
    "\n",
    "print(countries.columns, leagues.columns, seasons.columns)"
   ]
  },
  {
   "cell_type": "code",
   "execution_count": 9,
   "id": "1a5d4177-b149-494f-93a1-c9cb80239aee",
   "metadata": {},
   "outputs": [],
   "source": [
    "countries = countries[['name','code']]\n",
    "leagues = leagues[['league_id', 'name', 'type', 'country', 'country_code','seasons']]\n",
    "seasons = seasons[['league_id', 'year', 'start', 'end', 'current', 'events',\n",
    "       'lineups', 'statistics_fixtures', 'statistics_players', 'standings',\n",
    "       'players', 'top_scorers', 'top_assists', 'top_cards', 'injuries',\n",
    "       'predictions', 'odds']]"
   ]
  },
  {
   "cell_type": "code",
   "execution_count": null,
   "id": "37ef542c-5263-4360-972f-be5cf4390f80",
   "metadata": {},
   "outputs": [],
   "source": [
    "countries = pd.to_csv('countries.csv')\n",
    "\n",
    "\n",
    "leagues = pd.to_csv('contests.csv')\n",
    "\n",
    "seasons = pd.to_csv('seasons.csv')"
   ]
  },
  {
   "cell_type": "code",
   "execution_count": 17,
   "id": "f9fb0d98-9c60-428e-9231-01235b2a644a",
   "metadata": {},
   "outputs": [],
   "source": [
    "import boto3\n",
    "import io\n",
    "\n",
    "# get current and european seasons files from bucket\n",
    "s3 = boto3.client('s3')\n",
    "\n",
    "bucket_name = 'sport-storage'\n",
    "object_key1 = 'current.csv'\n",
    "object_key2 = 'european_seasons.csv'\n",
    "\n",
    "response1 = s3.get_object(Bucket = bucket_name, Key = object_key1)\n",
    "response2 = s3.get_object(Bucket = bucket_name, Key = object_key2)\n",
    "\n",
    "current = pd.read_csv(io.BytesIO(response1['Body'].read()))\n",
    "european_seasons = pd.read_csv(io.BytesIO(response2['Body'].read()))\n"
   ]
  },
  {
   "cell_type": "code",
   "execution_count": 18,
   "id": "549ccdcd-29d4-4005-935c-dc83c6360fbc",
   "metadata": {},
   "outputs": [
    {
     "data": {
      "text/html": [
       "<div>\n",
       "<style scoped>\n",
       "    .dataframe tbody tr th:only-of-type {\n",
       "        vertical-align: middle;\n",
       "    }\n",
       "\n",
       "    .dataframe tbody tr th {\n",
       "        vertical-align: top;\n",
       "    }\n",
       "\n",
       "    .dataframe thead th {\n",
       "        text-align: right;\n",
       "    }\n",
       "</style>\n",
       "<table border=\"1\" class=\"dataframe\">\n",
       "  <thead>\n",
       "    <tr style=\"text-align: right;\">\n",
       "      <th></th>\n",
       "      <th>Unnamed: 0</th>\n",
       "      <th>league_id</th>\n",
       "      <th>year</th>\n",
       "      <th>type</th>\n",
       "      <th>page</th>\n",
       "    </tr>\n",
       "  </thead>\n",
       "  <tbody>\n",
       "    <tr>\n",
       "      <th>0</th>\n",
       "      <td>0</td>\n",
       "      <td>39</td>\n",
       "      <td>2010</td>\n",
       "      <td>players</td>\n",
       "      <td>1</td>\n",
       "    </tr>\n",
       "  </tbody>\n",
       "</table>\n",
       "</div>"
      ],
      "text/plain": [
       "   Unnamed: 0  league_id  year     type  page\n",
       "0           0         39  2010  players     1"
      ]
     },
     "execution_count": 18,
     "metadata": {},
     "output_type": "execute_result"
    }
   ],
   "source": [
    "current.head()"
   ]
  }
 ],
 "metadata": {
  "kernelspec": {
   "display_name": "Python 3 (ipykernel)",
   "language": "python",
   "name": "python3"
  },
  "language_info": {
   "codemirror_mode": {
    "name": "ipython",
    "version": 3
   },
   "file_extension": ".py",
   "mimetype": "text/x-python",
   "name": "python",
   "nbconvert_exporter": "python",
   "pygments_lexer": "ipython3",
   "version": "3.12.1"
  }
 },
 "nbformat": 4,
 "nbformat_minor": 5
}
